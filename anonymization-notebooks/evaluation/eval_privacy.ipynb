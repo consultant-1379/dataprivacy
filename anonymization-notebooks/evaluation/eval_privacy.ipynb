{
 "cells": [
  {
   "cell_type": "code",
   "execution_count": null,
   "metadata": {},
   "outputs": [],
   "source": [
    "import pandas as pd\n",
    "import numpy as np\n",
    "import matplotlib as plt\n",
    "import matplotlib.pyplot as plt\n",
    "import matplotlib.colors as mcolors\n",
    "#!pip install scikit-learn==0.24.0\n",
    "\n",
    "from sklearn.decomposition import PCA\n",
    "from sklearn.preprocessing import StandardScaler\n",
    "from sklearn.model_selection import train_test_split\n",
    "from sklearn.decomposition import IncrementalPCA\n",
    "from sklearn.linear_model import LogisticRegression\n",
    "\n",
    "from sklearn.cluster import k_means\n",
    "from sklearn.cluster import KMeans\n",
    "from sklearn.cluster import MiniBatchKMeans\n",
    "from sklearn.cluster import AgglomerativeClustering\n",
    "from sklearn.cluster import MeanShift\n",
    "from sklearn.cluster import OPTICS\n",
    "from sklearn.cluster import DBSCAN\n",
    "!pip install hdbscan\n",
    "!pip install fa_kit\n",
    "!pip install kneed\n",
    "from fa_kit.rotation import VarimaxRotatorPython\n",
    "\n",
    "from sklearn import metrics\n",
    "import os\n",
    "\n",
    "from sklearn.metrics import mean_squared_error, r2_score\n",
    "from sklearn import datasets, linear_model\n",
    "\n",
    "import glob\n",
    "import matplotlib.pyplot as plt\n",
    "import numpy as np\n",
    "import pandas as pd\n",
    "from sklearn.neighbors import NearestNeighbors\n",
    "\n",
    "from scipy.spatial import distance\n",
    "from scipy.cluster import hierarchy\n",
    "\n",
    "import seaborn as sns; sns.set();\n",
    "from seaborn import heatmap\n",
    "\n",
    "from sklearn.preprocessing import LabelEncoder\n",
    "from sklearn.metrics import mean_squared_error, r2_score\n",
    "from sklearn import datasets, linear_model\n",
    "\n",
    "import random as random\n",
    "from sklearn.multiclass import OneVsRestClassifier\n",
    "\n",
    "from xgboost import XGBClassifier\n",
    "\n",
    "import itertools as it\n",
    "from matplotlib.backends.backend_pdf import PdfPages\n",
    "from sklearn.metrics import accuracy_score\n",
    "\n",
    "from sklearn.neighbors import LocalOutlierFactor\n",
    "from sklearn.neighbors import NearestNeighbors"
   ]
  },
  {
   "cell_type": "code",
   "execution_count": 2,
   "metadata": {},
   "outputs": [],
   "source": [
    "def read_file(folder):\n",
    "    df = pd.DataFrame()\n",
    "    path = folder+'/'\n",
    "    df_new = pd.read_csv(path+'benign_traffic.csv')\n",
    "    df_new['label'] = 'benign_traffic'\n",
    "    df = pd.concat([df,df_new], ignore_index=True)\n",
    "    \n",
    "    directory = os.fsencode(path+'gafgyt_attacks')\n",
    "    for file in os.listdir(directory):\n",
    "        filename = os.fsdecode(file)\n",
    "        if filename.endswith(\".csv\"): \n",
    "            df_new = pd.read_csv(path+'gafgyt_attacks'+'/'+filename)\n",
    "            filename=filename[:-4] \n",
    "            df_new['label'] = 'gafgyt_'+filename\n",
    "            df = pd.concat([df,df_new], ignore_index=True)\n",
    "    directory = os.fsencode(path+'mirai_attacks')\n",
    "    for file in os.listdir(directory):\n",
    "        filename = os.fsdecode(file)\n",
    "        if filename.endswith(\".csv\"): \n",
    "            df_new = pd.read_csv(path+'mirai_attacks'+'/'+filename)\n",
    "            filename=filename[:-4] \n",
    "            df_new['label'] = 'mirai_'+filename\n",
    "            df = pd.concat([df,df_new], ignore_index=True)\n",
    "    return df"
   ]
  },
  {
   "cell_type": "code",
   "execution_count": 2,
   "metadata": {},
   "outputs": [],
   "source": [
    "#TODO: -scaling for lof\n",
    "\n",
    "\n",
    "def read_file(folder, samp = False, lof=False):\n",
    "    df = pd.DataFrame()\n",
    "    path = folder+'/'\n",
    "    df_new = pd.read_csv(path+'benign_traffic.csv')\n",
    "    df_new['label'] = 'benign_traffic'\n",
    "    if samp==True:\n",
    "        df_new = df_new.sample(frac=0.5, replace=False, random_state=42).reset_index(drop=True)\n",
    "    if lof==True:\n",
    "        #df_new = pd.DataFrame(scaler.fit_transform(df_new))\n",
    "        df_new = filter_lof(df_new)\n",
    "        #df_new = scaler.inverse_transform(df_new)\n",
    "    df = pd.concat([df,df_new], ignore_index=True)\n",
    "    \n",
    "    directory = os.fsencode(path+'gafgyt_attacks')\n",
    "    for file in os.listdir(directory):\n",
    "        filename = os.fsdecode(file)\n",
    "        if filename.endswith(\".csv\"): \n",
    "            df_new = pd.read_csv(path+'gafgyt_attacks'+'/'+filename)\n",
    "            filename=filename[:-4] \n",
    "            df_new['label'] = 'gafgyt_'+filename\n",
    "            if samp==True:\n",
    "                df_new = df_new.sample(frac=0.5, replace=False, random_state=42).reset_index(drop=True)\n",
    "            if lof==True:\n",
    "                #df_new = pd.DataFrame(scaler.fit_transform(df_new))\n",
    "                df_new = filter_lof(df_new)\n",
    "                #df_new = scaler.inverse_transform(df_new)\n",
    "            df = pd.concat([df,df_new], ignore_index=True)\n",
    "    directory = os.fsencode(path+'mirai_attacks')\n",
    "    for file in os.listdir(directory):\n",
    "        filename = os.fsdecode(file)\n",
    "        if filename.endswith(\".csv\"): \n",
    "            df_new = pd.read_csv(path+'mirai_attacks'+'/'+filename)\n",
    "            filename=filename[:-4] \n",
    "            df_new['label'] = 'mirai_'+filename\n",
    "            if samp==True:\n",
    "                df_new = df_new.sample(frac=0.5, replace=False, random_state=42).reset_index(drop=True)\n",
    "            if lof==True:\n",
    "                #df_new = pd.DataFrame(scaler.fit_transform(df_new))\n",
    "                df_new = filter_lof(df_new)\n",
    "                #df_new = scaler.inverse_transform(df_new)\n",
    "            df = pd.concat([df,df_new], ignore_index=True)\n",
    "    return df"
   ]
  },
  {
   "cell_type": "code",
   "execution_count": 4,
   "metadata": {},
   "outputs": [],
   "source": [
    "#read in original data (wo anonymization)\n",
    "def read_file_o(dfs, device):\n",
    "    df = pd.DataFrame()\n",
    "    for i in dfs:\n",
    "        #df_new = pd.read_csv(i+'.csv')\n",
    "        #df_new = pd.read_csv('./Simple_home_1003_sec_cam/'+i+'.csv')\n",
    "        df_new = pd.read_csv('./'+device+'/'+i+'.csv')\n",
    "        df_new['label'] = i\n",
    "        df = pd.concat([df,df_new], ignore_index=True)\n",
    "    return df"
   ]
  },
  {
   "cell_type": "code",
   "execution_count": 5,
   "metadata": {},
   "outputs": [],
   "source": [
    "def read_file_new(dfs, device, lof = False):\n",
    "    df = pd.DataFrame()\n",
    "    for i in dfs:\n",
    "        df_new = pd.read_csv(\"/data/dataprivacy/detection_of_IoT_botnet_attacks/\"+device+'/'+i+'.csv')\n",
    "        #df_new = pd.read_csv('./'+device+'/'+i+'.csv')\n",
    "        df_new['label'] = i\n",
    "        df_new = df_new.sample(frac=0.5, replace=False, random_state=42).reset_index(drop=True)\n",
    "        if lof==True:\n",
    "            df_new = filter_lof(df_new)\n",
    "        df = pd.concat([df,df_new], ignore_index=True)\n",
    "    return df"
   ]
  },
  {
   "cell_type": "code",
   "execution_count": 3,
   "metadata": {},
   "outputs": [],
   "source": [
    "def filter_lof(df, k=20) :\n",
    "    lof = LocalOutlierFactor(n_neighbors=k)\n",
    "    scaler = StandardScaler()\n",
    "    df2 = pd.DataFrame.copy(df)\n",
    "    df2 = df2.drop(columns = ['label'])\n",
    "    df2 = pd.DataFrame(scaler.fit_transform(df2))\n",
    "    df2[\"_lof\"] = lof.fit_predict(df2)\n",
    "    df2 = df2[df2[\"_lof\"]>0].drop(columns=\"_lof\")#.reset_index(drop=True)\n",
    "    df2 = pd.DataFrame(scaler.inverse_transform(df2))\n",
    "    df2['label'] = df['label']\n",
    "    return df2.reset_index(drop=True)"
   ]
  },
  {
   "cell_type": "code",
   "execution_count": null,
   "metadata": {},
   "outputs": [],
   "source": [
    "#read original data\n",
    "\n",
    "files = ['benign_traffic', 'bashlite_combo', 'bashlite_junk', 'bashlite_scan', 'bashlite_tcp', 'bashlite_udp', 'mirai_ack', 'mirai_scan', 'mirai_syn', 'mirai_udp', 'mirai_udpplain']\n",
    "df_original = read_file_new(files,'SimpleHome_XCS7_1003_WHT_Security_Camera')\n",
    "#df_original = filter_lof(df_original)\n",
    "#df_original = df_original.sample(frac=0.5, replace=False, random_state=42).reset_index(drop=True)\n",
    "#df_original = df_original.dropna().reset_index(drop=True)\n",
    "#df_original \n",
    "\n",
    "#nbrs = NearestNeighbors(n_neighbors=2, algorithm='ball_tree').fit(df_original)\n",
    "\n",
    "#nbrs.kneighbors_graph(X).toarray()"
   ]
  },
  {
   "cell_type": "code",
   "execution_count": 4,
   "metadata": {},
   "outputs": [],
   "source": [
    "def crop_attila(df, cluster_size):\n",
    "    firsts = []\n",
    "    files = df['label'].unique()\n",
    "    to_delete_list = []\n",
    "    for i in range(len(files)):\n",
    "        #last type\n",
    "        if i==len(files)-1:\n",
    "            first = len(df)\n",
    "            firsts.append(first)\n",
    "        else:\n",
    "            first = df.index[df['label']==files[i+1]].tolist()[0]\n",
    "            firsts.append(first)\n",
    "        #first type\n",
    "        if i==0:\n",
    "            to_delete = first%cluster_size\n",
    "        else:\n",
    "            to_delete = (first-firsts[i-1])%cluster_size\n",
    "        if to_delete==0 and files[i]=='mirai_syn':\n",
    "            to_delete=cluster_size\n",
    "        if to_delete==0 and files[i]=='gafgyt_tcp':\n",
    "            to_delete=cluster_size\n",
    "        #chosing rows to drop\n",
    "        for j in range(to_delete):\n",
    "            to_delete_list.append(first-j-1)\n",
    "    df = df.drop(to_delete_list)\n",
    "    df = df.reset_index(drop=True)\n",
    "    return df"
   ]
  },
  {
   "cell_type": "code",
   "execution_count": 14,
   "metadata": {},
   "outputs": [
    {
     "name": "stdout",
     "output_type": "stream",
     "text": [
      "4\n",
      "9\n",
      "6\n",
      "8\n",
      "6\n",
      "0\n",
      "10\n",
      "4\n",
      "7\n",
      "8\n",
      "2\n",
      "425350\n"
     ]
    }
   ],
   "source": [
    "df_original = read_file('/data/dataprivacy/detection_of_IoT_botnet_attacks/'+'SimpleHome_XCS7_1003_WHT_Security_Camera', samp=True, lof=False)\n",
    "file = 'c10_e1'\n",
    "df_original = crop_attila(df_original, int(file[1:3]))\n",
    "print(len(df_original))"
   ]
  },
  {
   "cell_type": "code",
   "execution_count": 11,
   "metadata": {},
   "outputs": [
    {
     "name": "stdout",
     "output_type": "stream",
     "text": [
      "benign_traffic\n",
      "9760\n",
      "gafgyt_combo\n",
      "29690\n",
      "gafgyt_junk\n",
      "13700\n",
      "gafgyt_tcp\n",
      "49030\n",
      "gafgyt_scan\n",
      "14280\n",
      "gafgyt_udp\n",
      "51490\n",
      "mirai_syn\n",
      "61230\n",
      "mirai_ack\n",
      "53590\n",
      "mirai_scan\n",
      "21830\n",
      "mirai_udpplain\n",
      "42210\n",
      "mirai_udp\n",
      "78540\n"
     ]
    }
   ],
   "source": [
    "for i in df_original['label'].unique():\n",
    "    print(i)\n",
    "    print(df_original[df_original['label'] == i].shape[0])"
   ]
  },
  {
   "cell_type": "code",
   "execution_count": 12,
   "metadata": {},
   "outputs": [
    {
     "name": "stdout",
     "output_type": "stream",
     "text": [
      "benign_traffic\n",
      "9760\n",
      "gafgyt_combo\n",
      "29690\n",
      "gafgyt_junk\n",
      "13700\n",
      "gafgyt_tcp\n",
      "49030\n",
      "gafgyt_scan\n",
      "14280\n",
      "gafgyt_udp\n",
      "51490\n",
      "mirai_syn\n",
      "61230\n",
      "mirai_ack\n",
      "53590\n",
      "mirai_scan\n",
      "21830\n",
      "mirai_udpplain\n",
      "42210\n",
      "mirai_udp\n",
      "78540\n"
     ]
    }
   ],
   "source": [
    "for i in df['label'].unique():\n",
    "    print(i)\n",
    "    print(df[df['label'] == i].shape[0])"
   ]
  },
  {
   "cell_type": "code",
   "execution_count": 15,
   "metadata": {},
   "outputs": [
    {
     "name": "stdout",
     "output_type": "stream",
     "text": [
      "425350\n"
     ]
    }
   ],
   "source": [
    "file = 'c10_e1'\n",
    "df = read_file('/data/dataprivacy/detection_of_IoT_botnet_attacks-anonymized/'+'SimpleHome_XCS7_1003_WHT_Security_Camera'+'/'+'attila1'+'/'+file)\n",
    "#df = df.sample(frac=0.5, replace=False, random_state=42).reset_index(drop=True)\n",
    "#df = df.dropna().reset_index(drop=True)\n",
    "print(len(df))"
   ]
  },
  {
   "cell_type": "code",
   "execution_count": null,
   "metadata": {},
   "outputs": [],
   "source": []
  },
  {
   "cell_type": "code",
   "execution_count": null,
   "metadata": {},
   "outputs": [],
   "source": [
    "df"
   ]
  },
  {
   "cell_type": "code",
   "execution_count": null,
   "metadata": {},
   "outputs": [],
   "source": [
    "df[df['label']=='mirai_syn']"
   ]
  },
  {
   "cell_type": "code",
   "execution_count": null,
   "metadata": {},
   "outputs": [],
   "source": [
    "df['label'].unique()"
   ]
  },
  {
   "cell_type": "markdown",
   "metadata": {},
   "source": [
    "# k nearest neighbor"
   ]
  },
  {
   "cell_type": "code",
   "execution_count": 5,
   "metadata": {},
   "outputs": [],
   "source": [
    "from sklearn.neighbors import NearestNeighbors\n",
    "import numpy as np"
   ]
  },
  {
   "cell_type": "code",
   "execution_count": 25,
   "metadata": {},
   "outputs": [],
   "source": [
    "def eval_privacy(devices, algos):\n",
    "    df_avg_ident = pd.DataFrame(columns = ['avg_per_10'])\n",
    "    for device in devices:\n",
    "        print(device)\n",
    "        for algo in algos:\n",
    "            print(algo)\n",
    "            if algo=='attila1' or algo=='attila2':\n",
    "                df_original = read_file('/data/dataprivacy/detection_of_IoT_botnet_attacks/'+device, samp=True, lof=False)\n",
    "                print('attila')\n",
    "            else:\n",
    "                df_original = read_file('/data/dataprivacy/detection_of_IoT_botnet_attacks/'+device, samp=True, lof=True)\n",
    "                print('nemattila')\n",
    "            for file in os.listdir('/data/dataprivacy/detection_of_IoT_botnet_attacks-anonymized/'+device+'/'+algo):\n",
    "                if file.startswith('c') or file.startswith('k'):\n",
    "                    print(file)\n",
    "                    if algo=='attila1' or algo=='attila2':\n",
    "                        if int(file[1])==3 or int(file[1])==5:\n",
    "                            num = int(file[1:2])\n",
    "                        else:\n",
    "                            num = int(file[1:3])\n",
    "                        print(num)\n",
    "                        df_original_cropped = crop_attila(df_original, num)\n",
    "                        df = read_file('/data/dataprivacy/detection_of_IoT_botnet_attacks-anonymized/'+device+'/'+algo+'/'+file)\n",
    "                        print(len(df_original_cropped))\n",
    "                        print(len(df))\n",
    "                        for j in df_original_cropped['label'].unique():\n",
    "                            if df_original_cropped[df_original_cropped['label'] == j].shape[0] != df[df['label'] == j].shape[0]:\n",
    "                                print('baaaj')\n",
    "                                print(j)\n",
    "                                print(df_original_cropped[df_original_cropped['label'] == j].shape[0])\n",
    "                                print(df[df['label'] == j].shape[0])\n",
    "                        X = df_original_cropped.iloc[:,:-1]\n",
    "                    else:\n",
    "                        df = read_file('/data/dataprivacy/detection_of_IoT_botnet_attacks-anonymized/'+device+'/'+algo+'/'+file)\n",
    "                        print(len(df_original))\n",
    "                        print(len(df))\n",
    "                        for j in df_original['label'].unique():\n",
    "                            if df_original[df_original['label'] == j].shape[0] != df[df['label'] == j].shape[0]:\n",
    "                                print('baaaaaaaaaaaaaaaaaaaaaaaaaaaaaaaaaaaaaaaaaaaaaaaaaaaj')\n",
    "                                print(j)\n",
    "                                print(df_original[df_original['label'] == j].shape[0])\n",
    "                                print(df[df['label'] == j].shape[0])\n",
    "                        X = df_original.iloc[:,:-1]\n",
    "                    nbrs_original = NearestNeighbors(n_neighbors=11, algorithm='ball_tree').fit(X)\n",
    "                    distances_original, indices_original = nbrs_original.kneighbors(X)\n",
    "                    indices_original = indices_original[:,1:]\n",
    "                    inds = pd.isnull(df).any(1).to_numpy().nonzero()\n",
    "                    df = df.dropna().reset_index(drop=True)\n",
    "                    X = X.drop(inds[0]).reset_index(drop=True)\n",
    "                    Y = df.iloc[:,:-1]\n",
    "                    nbrs = NearestNeighbors(n_neighbors=11, algorithm='ball_tree').fit(Y)\n",
    "                    distances, indices = nbrs.kneighbors(Y)\n",
    "                    indices = indices[:,1:]\n",
    "                    identical = []\n",
    "                    for l in range(len(indices)):\n",
    "                        identical.append(len(set(indices_original[l]).intersection(indices[l])))\n",
    "                    df_avg_ident.loc[device+'_'+algo+'_'+file] = sum(identical)/len(identical)\n",
    "                    df_avg_ident.to_csv('eval_privacy_seccam.csv')"
   ]
  },
  {
   "cell_type": "code",
   "execution_count": 26,
   "metadata": {},
   "outputs": [
    {
     "name": "stdout",
     "output_type": "stream",
     "text": [
      "SimpleHome_XCS7_1003_WHT_Security_Camera\n",
      "alex1b\n",
      "nemattila\n",
      "k10_e10_lof\n",
      "396042\n",
      "396042\n",
      "k10_e1_lof\n",
      "396042\n",
      "396042\n",
      "k20_e5_lof\n",
      "396042\n",
      "396042\n",
      "k20_e1_lof\n",
      "396042\n",
      "396042\n",
      "k50_e5_lof\n",
      "396042\n",
      "396042\n",
      "k50_e1_lof\n",
      "396042\n",
      "396042\n",
      "k20_e10_lof\n",
      "396042\n",
      "396042\n",
      "k10_e5_lof\n",
      "396042\n",
      "396042\n",
      "k50_e10_lof\n",
      "396042\n",
      "396042\n",
      "alex2\n",
      "nemattila\n",
      "k10_e10_lof\n",
      "396042\n",
      "396042\n",
      "k10_e1_lof\n",
      "396042\n",
      "396042\n",
      "k20_e5_lof\n",
      "396042\n",
      "396042\n",
      "k20_e1_lof\n",
      "396042\n",
      "396042\n",
      "k50_e5_lof\n",
      "396042\n",
      "396042\n",
      "k50_e1_lof\n",
      "396042\n",
      "396042\n",
      "k20_e10_lof\n",
      "396042\n",
      "396042\n",
      "k10_e5_lof\n",
      "396042\n",
      "396042\n",
      "k50_e10_lof\n",
      "396042\n",
      "396042\n"
     ]
    }
   ],
   "source": [
    "devices = ['SimpleHome_XCS7_1003_WHT_Security_Camera']\n",
    "algos = ['alex1b','alex2']\n",
    "eval_privacy(devices, algos)"
   ]
  },
  {
   "cell_type": "code",
   "execution_count": null,
   "metadata": {},
   "outputs": [],
   "source": [
    "len(indices_original)"
   ]
  },
  {
   "cell_type": "code",
   "execution_count": null,
   "metadata": {},
   "outputs": [],
   "source": [
    "df_original = read_file('/data/dataprivacy/detection_of_IoT_botnet_attacks/'+'SimpleHome_XCS7_1003_WHT_Security_Camera', samp=True, lof=True)"
   ]
  },
  {
   "cell_type": "code",
   "execution_count": null,
   "metadata": {},
   "outputs": [],
   "source": [
    "file = 'k10_e1_lof'\n",
    "df = read_file('/data/dataprivacy/detection_of_IoT_botnet_attacks-anonymized/'+'SimpleHome_XCS7_1003_WHT_Security_Camera'+'/'+'alex2'+'/'+file)"
   ]
  },
  {
   "cell_type": "code",
   "execution_count": null,
   "metadata": {},
   "outputs": [],
   "source": [
    "X = df_original.iloc[:,:-1]\n",
    "nbrs_original = NearestNeighbors(n_neighbors=11, algorithm='ball_tree').fit(X)\n",
    "distances_original, indices_original = nbrs_original.kneighbors(X)\n",
    "indices_original = indices_original[:,1:]"
   ]
  },
  {
   "cell_type": "code",
   "execution_count": null,
   "metadata": {},
   "outputs": [],
   "source": [
    "Y = df.iloc[:,:-1]\n",
    "nbrs = NearestNeighbors(n_neighbors=11, algorithm='ball_tree').fit(Y)\n",
    "distances, indices = nbrs.kneighbors(Y)\n",
    "indices = indices[:,1:]"
   ]
  },
  {
   "cell_type": "code",
   "execution_count": null,
   "metadata": {},
   "outputs": [],
   "source": [
    "identical = []\n",
    "for i in range(len(indices)):\n",
    "    identical.append(len(set(indices_original[i]).intersection(indices[i])))"
   ]
  },
  {
   "cell_type": "code",
   "execution_count": null,
   "metadata": {},
   "outputs": [],
   "source": [
    "print(sum(identical)/len(identical))"
   ]
  }
 ],
 "metadata": {
  "kernelspec": {
   "display_name": "Python 3",
   "language": "python",
   "name": "python3"
  },
  "language_info": {
   "codemirror_mode": {
    "name": "ipython",
    "version": 3
   },
   "file_extension": ".py",
   "mimetype": "text/x-python",
   "name": "python",
   "nbconvert_exporter": "python",
   "pygments_lexer": "ipython3",
   "version": "3.7.7"
  }
 },
 "nbformat": 4,
 "nbformat_minor": 4
}
