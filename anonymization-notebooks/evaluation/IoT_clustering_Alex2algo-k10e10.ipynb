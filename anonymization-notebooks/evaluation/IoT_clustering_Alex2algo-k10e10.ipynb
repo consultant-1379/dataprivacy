{
 "cells": [
  {
   "cell_type": "code",
   "execution_count": 1,
   "metadata": {},
   "outputs": [
    {
     "name": "stdout",
     "output_type": "stream",
     "text": [
      "Requirement already satisfied: hdbscan in /opt/conda/lib/python3.7/site-packages (0.8.27)\n",
      "Requirement already satisfied: scikit-learn>=0.20 in /opt/conda/lib/python3.7/site-packages (from hdbscan) (0.24.1)\n",
      "Requirement already satisfied: scipy>=1.0 in /opt/conda/lib/python3.7/site-packages (from hdbscan) (1.2.1)\n",
      "Requirement already satisfied: cython>=0.27 in /opt/conda/lib/python3.7/site-packages (from hdbscan) (0.29.6)\n",
      "Requirement already satisfied: six in /opt/conda/lib/python3.7/site-packages (from hdbscan) (1.15.0)\n",
      "Requirement already satisfied: numpy>=1.16 in /opt/conda/lib/python3.7/site-packages (from hdbscan) (1.19.1)\n",
      "Requirement already satisfied: joblib>=1.0 in /opt/conda/lib/python3.7/site-packages (from hdbscan) (1.0.1)\n",
      "Requirement already satisfied: threadpoolctl>=2.0.0 in /opt/conda/lib/python3.7/site-packages (from scikit-learn>=0.20->hdbscan) (2.1.0)\n",
      "Requirement already satisfied: fa_kit in /opt/conda/lib/python3.7/site-packages (0.1.2)\n",
      "Requirement already satisfied: numpy in /opt/conda/lib/python3.7/site-packages (from fa_kit) (1.19.1)\n",
      "Requirement already satisfied: matplotlib in /opt/conda/lib/python3.7/site-packages (from fa_kit) (3.0.3)\n",
      "Requirement already satisfied: pandas in /opt/conda/lib/python3.7/site-packages (from fa_kit) (1.0.4)\n",
      "Requirement already satisfied: scipy in /opt/conda/lib/python3.7/site-packages (from fa_kit) (1.2.1)\n",
      "Requirement already satisfied: cycler>=0.10 in /opt/conda/lib/python3.7/site-packages (from matplotlib->fa_kit) (0.10.0)\n",
      "Requirement already satisfied: kiwisolver>=1.0.1 in /opt/conda/lib/python3.7/site-packages (from matplotlib->fa_kit) (1.2.0)\n",
      "Requirement already satisfied: pyparsing!=2.0.4,!=2.1.2,!=2.1.6,>=2.0.1 in /opt/conda/lib/python3.7/site-packages (from matplotlib->fa_kit) (2.4.7)\n",
      "Requirement already satisfied: python-dateutil>=2.1 in /opt/conda/lib/python3.7/site-packages (from matplotlib->fa_kit) (2.8.1)\n",
      "Requirement already satisfied: pytz>=2017.2 in /opt/conda/lib/python3.7/site-packages (from pandas->fa_kit) (2020.1)\n",
      "Requirement already satisfied: six in /opt/conda/lib/python3.7/site-packages (from cycler>=0.10->matplotlib->fa_kit) (1.15.0)\n",
      "Requirement already satisfied: kneed in /opt/conda/lib/python3.7/site-packages (0.7.0)\n",
      "Requirement already satisfied: matplotlib in /opt/conda/lib/python3.7/site-packages (from kneed) (3.0.3)\n",
      "Requirement already satisfied: scipy in /opt/conda/lib/python3.7/site-packages (from kneed) (1.2.1)\n",
      "Requirement already satisfied: numpy>=1.14.2 in /opt/conda/lib/python3.7/site-packages (from kneed) (1.19.1)\n",
      "Requirement already satisfied: cycler>=0.10 in /opt/conda/lib/python3.7/site-packages (from matplotlib->kneed) (0.10.0)\n",
      "Requirement already satisfied: kiwisolver>=1.0.1 in /opt/conda/lib/python3.7/site-packages (from matplotlib->kneed) (1.2.0)\n",
      "Requirement already satisfied: pyparsing!=2.0.4,!=2.1.2,!=2.1.6,>=2.0.1 in /opt/conda/lib/python3.7/site-packages (from matplotlib->kneed) (2.4.7)\n",
      "Requirement already satisfied: python-dateutil>=2.1 in /opt/conda/lib/python3.7/site-packages (from matplotlib->kneed) (2.8.1)\n",
      "Requirement already satisfied: six in /opt/conda/lib/python3.7/site-packages (from cycler>=0.10->matplotlib->kneed) (1.15.0)\n"
     ]
    }
   ],
   "source": [
    "import pandas as pd\n",
    "import numpy as np\n",
    "import matplotlib as plt\n",
    "import matplotlib.pyplot as plt\n",
    "import matplotlib.colors as mcolors\n",
    "#!pip install scikit-learn==0.24.0\n",
    "\n",
    "from sklearn.decomposition import PCA\n",
    "from sklearn.preprocessing import StandardScaler\n",
    "from sklearn.model_selection import train_test_split\n",
    "from sklearn.decomposition import IncrementalPCA\n",
    "from sklearn.linear_model import LogisticRegression\n",
    "\n",
    "from sklearn.cluster import k_means\n",
    "from sklearn.cluster import KMeans\n",
    "from sklearn.cluster import MiniBatchKMeans\n",
    "from sklearn.cluster import AgglomerativeClustering\n",
    "from sklearn.cluster import MeanShift\n",
    "from sklearn.cluster import OPTICS\n",
    "from sklearn.cluster import DBSCAN\n",
    "!pip install hdbscan\n",
    "!pip install fa_kit\n",
    "!pip install kneed\n",
    "from fa_kit.rotation import VarimaxRotatorPython\n",
    "\n",
    "from sklearn import metrics\n",
    "import os\n",
    "\n",
    "from sklearn.metrics import mean_squared_error, r2_score\n",
    "from sklearn import datasets, linear_model"
   ]
  },
  {
   "cell_type": "code",
   "execution_count": 2,
   "metadata": {},
   "outputs": [],
   "source": [
    "def read_file(dfs):\n",
    "    df = pd.DataFrame()\n",
    "    path = '/home/jovyan/work/Toni/detection_of_IoT_botnet_attacks_N_BaIoT/anonymized/alex2/'+folder+'/'\n",
    "    df_new = pd.read_csv(path+'benign_traffic.csv')\n",
    "    df_new['label'] = 'benign_traffic'\n",
    "    df = pd.concat([df,df_new], ignore_index=True)\n",
    "    \n",
    "    directory = os.fsencode(path+'gafgyt_attacks')\n",
    "    for file in os.listdir(directory):\n",
    "        filename = os.fsdecode(file)\n",
    "        if filename.endswith(\".csv\"): \n",
    "            df_new = pd.read_csv(path+'gafgyt_attacks'+'/'+filename)\n",
    "            filename=filename[:-4] \n",
    "            df_new['label'] = 'gafgyt_'+filename\n",
    "            df = pd.concat([df,df_new], ignore_index=True)\n",
    "    directory = os.fsencode(path+'mirai_attacks')\n",
    "    for file in os.listdir(directory):\n",
    "        filename = os.fsdecode(file)\n",
    "        if filename.endswith(\".csv\"): \n",
    "            df_new = pd.read_csv(path+'mirai_attacks'+'/'+filename)\n",
    "            filename=filename[:-4] \n",
    "            df_new['label'] = 'mirai_'+filename\n",
    "            df = pd.concat([df,df_new], ignore_index=True)\n",
    "    return df"
   ]
  },
  {
   "cell_type": "code",
   "execution_count": 3,
   "metadata": {},
   "outputs": [],
   "source": [
    "folder = 'baby_k10_e10_lof'\n",
    "df = read_file(folder)\n",
    "df = df.dropna().reset_index(drop=True)"
   ]
  },
  {
   "cell_type": "code",
   "execution_count": 4,
   "metadata": {},
   "outputs": [],
   "source": [
    "def pca_func(rate, data):    \n",
    "    df_wo_label = data.drop(columns = ['label'])\n",
    "    scaler = StandardScaler()\n",
    "    data_scaled = scaler.fit_transform(df_wo_label)\n",
    "    pca = PCA(n_components=rate, random_state=0)\n",
    "    pca_comp = pca.fit(data_scaled).components_\n",
    "    return pca_comp, data_scaled"
   ]
  },
  {
   "cell_type": "code",
   "execution_count": 5,
   "metadata": {},
   "outputs": [],
   "source": [
    "# LEts transform our original dataset to lower dimensional\n",
    "def decrease_dim(components, data_scaled):\n",
    "    varimax = VarimaxRotatorPython()\n",
    "    rotated_weights = varimax.rotate(components.T)\n",
    "    df_lowdim = pd.DataFrame(np.dot(data_scaled, rotated_weights))\n",
    "    #df_lowdim[\"label\"] = df[\"label\"]\n",
    "    rotated_data = np.dot(data_scaled, rotated_weights)\n",
    "    return df_lowdim, rotated_data"
   ]
  },
  {
   "cell_type": "code",
   "execution_count": 6,
   "metadata": {},
   "outputs": [],
   "source": [
    "import scipy.special\n",
    "\n",
    "def adj_rand(data):\n",
    "    tab = pd.crosstab(data['label'], data['cluster_label'])\n",
    "    df_tab = pd.DataFrame(tab)\n",
    "    a = list(df_tab.sum(axis=1))\n",
    "    b = list(df_tab.sum(axis=0))\n",
    "    n = df_tab.values.tolist()\n",
    "    sum_n = 0\n",
    "    for i in range(len(n)):\n",
    "        for j in range(len(n[0])):\n",
    "            sum_n += scipy.special.comb(n[i][j],2)\n",
    "    sum_a = 0\n",
    "    for k in range(len(a)):\n",
    "        sum_a += scipy.special.comb(a[k],2)\n",
    "    sum_b = 0\n",
    "    for l in range(len(b)):\n",
    "        sum_b += scipy.special.comb(b[l],2)\n",
    "    \n",
    "    ari = (sum_n - sum_a*sum_b/scipy.special.comb(sum(a),2))/(0.5*(sum_a+sum_b)-sum_a*sum_b/scipy.special.comb(sum(a),2))\n",
    "    return(ari)"
   ]
  },
  {
   "cell_type": "code",
   "execution_count": 7,
   "metadata": {},
   "outputs": [],
   "source": [
    "def evall(df_cl):\n",
    "    sc = []\n",
    "    sc.append(metrics.rand_score(df_cl['label'], df_cl['cluster_label']))\n",
    "    sc.append(adj_rand(df_cl))\n",
    "    sc.append(metrics.mutual_info_score(df_cl['label'], df_cl['cluster_label']))\n",
    "    sc.append(metrics.adjusted_mutual_info_score(df_cl['label'], df_cl['cluster_label']))\n",
    "    sc.append(metrics.homogeneity_score(df_cl['label'], df_cl['cluster_label']))\n",
    "    sc.append(metrics.completeness_score(df_cl['label'], df_cl['cluster_label']))\n",
    "    sc.append(metrics.v_measure_score(df_cl['label'], df_cl['cluster_label']))\n",
    "    sc.append(metrics.fowlkes_mallows_score(df_cl['label'], df_cl['cluster_label']))\n",
    "    return sc"
   ]
  },
  {
   "cell_type": "code",
   "execution_count": 8,
   "metadata": {},
   "outputs": [],
   "source": [
    "def L_method_optimum(tofit, minima=0):\n",
    "    maxima = len(tofit)\n",
    "    # minima=0\n",
    "    regr = linear_model.LinearRegression()\n",
    "    x_axis=np.arange(minima,maxima)\n",
    "    mse=np.zeros(maxima-minima)\n",
    "    xo =np.zeros(maxima-minima)\n",
    "    for i in range(2,maxima-minima-2):\n",
    "        #print(i)\n",
    "        guess11=regr.fit(x_axis[i:].reshape(-1, 1),tofit[i:].reshape(-1, 1)).predict(x_axis[i:].reshape(-1, 1))\n",
    "        guess1= regr.fit(x_axis[i:].reshape(-1, 1),tofit[i:].reshape(-1, 1))\n",
    "        a= guess1.coef_\n",
    "        b= guess1.intercept_\n",
    "        guess22=regr.fit(x_axis[:i].reshape(-1, 1),tofit[:i].reshape(-1, 1)).predict(x_axis[:i].reshape(-1, 1))\n",
    "        guess2 =regr.fit(x_axis[:i].reshape(-1, 1),tofit[:i].reshape(-1, 1))\n",
    "        c= guess2.coef_\n",
    "        d= guess2.intercept_\n",
    "        mse[i]= (maxima-minima-i+1)*mean_squared_error(tofit[i:], guess11 )+i*mean_squared_error(tofit[:i], guess22)\n",
    "        xo[i]=(d-b)/(a-c)\n",
    "        min_place=np.argmin(mse[2:-2])+2+minima\n",
    "    #labels = hierarchy.fcluster(linkage, minhely, 'maxclust')\n",
    "    return (min_place) #, distances[min_place])"
   ]
  },
  {
   "cell_type": "code",
   "execution_count": 9,
   "metadata": {},
   "outputs": [],
   "source": [
    "df_eval = pd.DataFrame(columns = ['rand_score', 'adjusted_rand_score', 'mutual_info_score', 'adjusted_mutual_info_score', \n",
    "                                  'homogeneity_score', 'completeness_score', 'v_measure_score', 'fowlkes_mallows_score'])"
   ]
  },
  {
   "cell_type": "markdown",
   "metadata": {},
   "source": [
    "# K-MEANS"
   ]
  },
  {
   "cell_type": "code",
   "execution_count": 10,
   "metadata": {},
   "outputs": [],
   "source": [
    "def kmeans(low_data, num_cl):\n",
    "    low_data_2 = low_data.copy()\n",
    "    kmeans = KMeans(init=\"random\",n_clusters=num_cl,n_init=10,max_iter=200,random_state=42)\n",
    "    kmeans.fit(low_data_2)\n",
    "    low_data_2[\"cluster_label\"] = kmeans.labels_\n",
    "    low_data_2[\"label\"] = df[\"label\"]\n",
    "    return low_data_2"
   ]
  },
  {
   "cell_type": "code",
   "execution_count": 11,
   "metadata": {},
   "outputs": [],
   "source": [
    "comp, df_scaled = pca_func(0.7, df)\n",
    "df_low, np_low = decrease_dim(comp, df_scaled)"
   ]
  },
  {
   "cell_type": "code",
   "execution_count": 12,
   "metadata": {},
   "outputs": [
    {
     "name": "stdout",
     "output_type": "stream",
     "text": [
      "1\n",
      "2\n",
      "3\n",
      "4\n",
      "5\n",
      "6\n",
      "7\n",
      "8\n",
      "9\n",
      "10\n",
      "11\n",
      "12\n",
      "13\n",
      "14\n",
      "15\n",
      "16\n",
      "17\n",
      "18\n",
      "19\n",
      "20\n",
      "21\n",
      "22\n",
      "23\n",
      "24\n",
      "25\n",
      "26\n",
      "27\n",
      "28\n",
      "29\n",
      "30\n",
      "31\n",
      "32\n",
      "33\n",
      "34\n",
      "35\n",
      "36\n",
      "37\n",
      "38\n",
      "39\n",
      "40\n",
      "41\n",
      "42\n",
      "43\n",
      "44\n",
      "45\n",
      "46\n",
      "47\n",
      "48\n",
      "49\n",
      "50\n",
      "51\n",
      "52\n",
      "53\n",
      "54\n",
      "55\n",
      "56\n",
      "57\n",
      "58\n",
      "59\n",
      "60\n",
      "61\n",
      "62\n",
      "63\n",
      "64\n",
      "65\n",
      "66\n",
      "67\n",
      "68\n",
      "69\n",
      "70\n",
      "71\n",
      "72\n",
      "73\n",
      "74\n",
      "75\n",
      "76\n",
      "77\n",
      "78\n",
      "79\n",
      "80\n",
      "81\n",
      "82\n",
      "83\n",
      "84\n",
      "85\n",
      "86\n",
      "87\n",
      "88\n",
      "89\n",
      "90\n",
      "91\n",
      "92\n",
      "93\n",
      "94\n",
      "95\n",
      "96\n",
      "97\n",
      "98\n",
      "99\n"
     ]
    }
   ],
   "source": [
    "kmeans_kwargs = {\"init\": \"random\",\"n_init\": 10, \"max_iter\": 200,\"random_state\": 42}\n",
    "\n",
    "sse = []\n",
    "for k in range(1, 100):\n",
    "    print(k)\n",
    "    kmeanss =  MiniBatchKMeans(n_clusters=k, **kmeans_kwargs)\n",
    "    kmeanss.fit(df_low)\n",
    "    sse.append(kmeanss.inertia_)"
   ]
  },
  {
   "cell_type": "code",
   "execution_count": 13,
   "metadata": {},
   "outputs": [
    {
     "data": {
      "image/png": "[encoded data removed]",
      "text/plain": [
       "<Figure size 432x288 with 1 Axes>"
      ]
     },
     "metadata": {},
     "output_type": "display_data"
    }
   ],
   "source": [
    "plt.style.use(\"fivethirtyeight\")\n",
    "plt.plot(range(1, 100), sse)\n",
    "plt.xticks(range(1, 100))\n",
    "plt.xlabel(\"Number of Clusters\")\n",
    "plt.ylabel(\"SSE\")\n",
    "plt.title('k-means')\n",
    "plt.show()"
   ]
  },
  {
   "cell_type": "code",
   "execution_count": 14,
   "metadata": {},
   "outputs": [
    {
     "data": {
      "image/png": "[encoded data removed]",
      "text/plain": [
       "<Figure size 432x288 with 1 Axes>"
      ]
     },
     "metadata": {},
     "output_type": "display_data"
    }
   ],
   "source": [
    "plt.style.use(\"fivethirtyeight\")\n",
    "plt.plot(range(1, 15), sse[:14])\n",
    "plt.xticks(range(1, 15))\n",
    "plt.xlabel(\"Number of Clusters\")\n",
    "plt.ylabel(\"SSE\")\n",
    "plt.title('k-means')\n",
    "plt.show()"
   ]
  },
  {
   "cell_type": "code",
   "execution_count": 15,
   "metadata": {},
   "outputs": [
    {
     "data": {
      "text/plain": [
       "4"
      ]
     },
     "execution_count": 15,
     "metadata": {},
     "output_type": "execute_result"
    }
   ],
   "source": [
    "sse = np.array(sse)\n",
    "L_method_optimum(sse)"
   ]
  },
  {
   "cell_type": "code",
   "execution_count": 16,
   "metadata": {},
   "outputs": [
    {
     "name": "stdout",
     "output_type": "stream",
     "text": [
      "3\n",
      "4\n",
      "5\n",
      "6\n",
      "7\n",
      "8\n",
      "9\n",
      "10\n",
      "11\n",
      "12\n"
     ]
    }
   ],
   "source": [
    "for k in range(3,13):\n",
    "    print(k)\n",
    "    df_kmeans = kmeans(df_low, k)\n",
    "    df_eval.loc['kmeans_cl'+str(k)]=evall(df_kmeans)"
   ]
  },
  {
   "cell_type": "code",
   "execution_count": 17,
   "metadata": {},
   "outputs": [],
   "source": [
    "df_eval.to_csv('eval_baby_k10_e10_lof')"
   ]
  },
  {
   "cell_type": "markdown",
   "metadata": {},
   "source": [
    "# MINIBATCH KMEANS"
   ]
  },
  {
   "cell_type": "code",
   "execution_count": 18,
   "metadata": {},
   "outputs": [],
   "source": [
    "def minibatch(low_data, num_cl):\n",
    "    low_data_2 = low_data.copy()\n",
    "    mini_kmeans = MiniBatchKMeans(init=\"random\",n_clusters=num_cl,n_init=10,max_iter=200,random_state=42)\n",
    "    mini_kmeans.fit(low_data_2)\n",
    "    low_data_2[\"cluster_label\"] = mini_kmeans.labels_\n",
    "    low_data_2[\"label\"] = df[\"label\"]\n",
    "    return low_data_2"
   ]
  },
  {
   "cell_type": "code",
   "execution_count": 19,
   "metadata": {},
   "outputs": [
    {
     "name": "stdout",
     "output_type": "stream",
     "text": [
      "1\n",
      "2\n",
      "3\n",
      "4\n",
      "5\n",
      "6\n",
      "7\n",
      "8\n",
      "9\n",
      "10\n",
      "11\n",
      "12\n",
      "13\n",
      "14\n",
      "15\n",
      "16\n",
      "17\n",
      "18\n",
      "19\n",
      "20\n",
      "21\n",
      "22\n",
      "23\n",
      "24\n",
      "25\n",
      "26\n",
      "27\n",
      "28\n",
      "29\n",
      "30\n",
      "31\n",
      "32\n",
      "33\n",
      "34\n",
      "35\n",
      "36\n",
      "37\n",
      "38\n",
      "39\n",
      "40\n",
      "41\n",
      "42\n",
      "43\n",
      "44\n",
      "45\n",
      "46\n",
      "47\n",
      "48\n",
      "49\n",
      "50\n",
      "51\n",
      "52\n",
      "53\n",
      "54\n",
      "55\n",
      "56\n",
      "57\n",
      "58\n",
      "59\n",
      "60\n",
      "61\n",
      "62\n",
      "63\n",
      "64\n",
      "65\n",
      "66\n",
      "67\n",
      "68\n",
      "69\n",
      "70\n",
      "71\n",
      "72\n",
      "73\n",
      "74\n",
      "75\n",
      "76\n",
      "77\n",
      "78\n",
      "79\n",
      "80\n",
      "81\n",
      "82\n",
      "83\n",
      "84\n",
      "85\n",
      "86\n",
      "87\n",
      "88\n",
      "89\n",
      "90\n",
      "91\n",
      "92\n",
      "93\n",
      "94\n",
      "95\n",
      "96\n",
      "97\n",
      "98\n",
      "99\n"
     ]
    }
   ],
   "source": [
    "comp, df_scaled = pca_func(0.7, df)\n",
    "df_low, np_low = decrease_dim(comp, df_scaled)\n",
    "\n",
    "kmeans_kwargs = {\"init\": \"random\",\"n_init\": 10, \"max_iter\": 200,\"random_state\": 42}\n",
    "\n",
    "# A list holds the SSE values for each k\n",
    "sse = []\n",
    "for k in range(1, 100):\n",
    "    print(k)\n",
    "    kmeanss =  MiniBatchKMeans(n_clusters=k, **kmeans_kwargs)\n",
    "    kmeanss.fit(df_low)\n",
    "    sse.append(kmeanss.inertia_)"
   ]
  },
  {
   "cell_type": "code",
   "execution_count": 20,
   "metadata": {},
   "outputs": [
    {
     "data": {
      "image/png": "[encoded data removed]",
      "text/plain": [
       "<Figure size 432x288 with 1 Axes>"
      ]
     },
     "metadata": {},
     "output_type": "display_data"
    }
   ],
   "source": [
    "plt.style.use(\"fivethirtyeight\")\n",
    "plt.plot(range(1, 100), sse)\n",
    "plt.xticks(range(1, 100))\n",
    "plt.xlabel(\"Number of Clusters\")\n",
    "plt.ylabel(\"SSE\")\n",
    "plt.title('minibatch k-means')\n",
    "plt.show()"
   ]
  },
  {
   "cell_type": "code",
   "execution_count": 21,
   "metadata": {},
   "outputs": [
    {
     "data": {
      "image/png": "[encoded data removed]",
      "text/plain": [
       "<Figure size 432x288 with 1 Axes>"
      ]
     },
     "metadata": {},
     "output_type": "display_data"
    }
   ],
   "source": [
    "plt.style.use(\"fivethirtyeight\")\n",
    "plt.plot(range(1, 15), sse[:14])\n",
    "plt.xticks(range(1, 15))\n",
    "plt.xlabel(\"Number of Clusters\")\n",
    "plt.ylabel(\"SSE\")\n",
    "plt.title('k-means')\n",
    "plt.show()"
   ]
  },
  {
   "cell_type": "code",
   "execution_count": 22,
   "metadata": {},
   "outputs": [
    {
     "data": {
      "text/plain": [
       "4"
      ]
     },
     "execution_count": 22,
     "metadata": {},
     "output_type": "execute_result"
    }
   ],
   "source": [
    "sse = np.array(sse)\n",
    "L_method_optimum(sse)"
   ]
  },
  {
   "cell_type": "code",
   "execution_count": 23,
   "metadata": {},
   "outputs": [
    {
     "name": "stdout",
     "output_type": "stream",
     "text": [
      "3\n",
      "4\n",
      "5\n",
      "6\n",
      "7\n",
      "8\n",
      "9\n",
      "10\n",
      "11\n",
      "12\n"
     ]
    }
   ],
   "source": [
    "for k in range(3,13):\n",
    "    print(k)\n",
    "    df_kmeans = minibatch(df_low, k)\n",
    "    df_eval.loc['minibatch_kmeans_cl'+str(k)]=evall(df_kmeans)"
   ]
  },
  {
   "cell_type": "code",
   "execution_count": 24,
   "metadata": {},
   "outputs": [],
   "source": [
    "df_eval.to_csv('eval_baby_k10_e10_lof')"
   ]
  },
  {
   "cell_type": "markdown",
   "metadata": {},
   "source": [
    "# HIERARCHICAL"
   ]
  },
  {
   "cell_type": "code",
   "execution_count": 9,
   "metadata": {},
   "outputs": [
    {
     "name": "stdout",
     "output_type": "stream",
     "text": [
      "Requirement already up-to-date: scikit-learn in /opt/conda/lib/python3.7/site-packages (0.24.1)\n",
      "Requirement already satisfied, skipping upgrade: scipy>=0.19.1 in /opt/conda/lib/python3.7/site-packages (from scikit-learn) (1.2.1)\n",
      "Requirement already satisfied, skipping upgrade: numpy>=1.13.3 in /opt/conda/lib/python3.7/site-packages (from scikit-learn) (1.19.1)\n",
      "Requirement already satisfied, skipping upgrade: threadpoolctl>=2.0.0 in /opt/conda/lib/python3.7/site-packages (from scikit-learn) (2.1.0)\n",
      "Requirement already satisfied, skipping upgrade: joblib>=0.11 in /opt/conda/lib/python3.7/site-packages (from scikit-learn) (1.0.1)\n"
     ]
    }
   ],
   "source": [
    "!pip install -U scikit-learn"
   ]
  },
  {
   "cell_type": "code",
   "execution_count": 8,
   "metadata": {},
   "outputs": [],
   "source": [
    "def hierarch(low_data, num_clust, link):\n",
    "    low_data_2 = low_data.copy()\n",
    "    hier = AgglomerativeClustering(n_clusters=num_clust, linkage=link).fit(low_data_2)\n",
    "    low_data_2[\"cluster_label\"] = hier.labels_\n",
    "    low_data_2[\"label\"] = reduced_label\n",
    "    return low_data_2"
   ]
  },
  {
   "cell_type": "code",
   "execution_count": 10,
   "metadata": {},
   "outputs": [],
   "source": [
    "df_reduced = df.sample(n=100000)\n",
    "reduced_label = df_reduced['label'].reset_index(drop=True)\n",
    "comp, df_scaled = pca_func(0.7, df_reduced)\n",
    "df_low, np_low = decrease_dim(comp, df_scaled)"
   ]
  },
  {
   "cell_type": "code",
   "execution_count": null,
   "metadata": {},
   "outputs": [
    {
     "name": "stdout",
     "output_type": "stream",
     "text": [
      "5\n"
     ]
    }
   ],
   "source": [
    "for k in range(5, 6):\n",
    "    print(k)\n",
    "    df_hierarch = hierarch(df_low, k, 'ward')\n",
    "    print(evall(df_hierarch))\n",
    "    #df_eval.loc['hierarch_cl'+str(k)]=evall(df_kmeans)"
   ]
  },
  {
   "cell_type": "markdown",
   "metadata": {},
   "source": [
    "# MEAN-SHIFT"
   ]
  },
  {
   "cell_type": "code",
   "execution_count": 28,
   "metadata": {},
   "outputs": [],
   "source": [
    "def mean_shift(low_data):\n",
    "    low_data_2 = low_data.copy()\n",
    "    mean_sh = MeanShift().fit(low_data_2)\n",
    "    low_data_2[\"cluster_label\"] = mean_sh.labels_\n",
    "    low_data_2[\"label\"] = reduced_label\n",
    "    return low_data_2"
   ]
  },
  {
   "cell_type": "code",
   "execution_count": 29,
   "metadata": {
    "scrolled": true
   },
   "outputs": [],
   "source": [
    "df_meanshift = mean_shift(df_low)\n",
    "df_eval.loc['meanshift']=evall(df_meanshift)\n",
    "df_eval.to_csv('eval_baby_k10_e10_lof')"
   ]
  },
  {
   "cell_type": "markdown",
   "metadata": {},
   "source": [
    "# DBSCAN"
   ]
  },
  {
   "cell_type": "code",
   "execution_count": 30,
   "metadata": {},
   "outputs": [],
   "source": [
    "def dbscan(low_data, ep, min_samp):\n",
    "    low_data_2 = low_data.copy()\n",
    "    dbsc = DBSCAN(eps=ep, min_samples=min_samp).fit(low_data_2)\n",
    "    low_data_2[\"cluster_label\"] = dbsc.labels_\n",
    "    low_data_2[\"label\"] = reduced_label\n",
    "    return low_data_2"
   ]
  },
  {
   "cell_type": "code",
   "execution_count": 31,
   "metadata": {},
   "outputs": [
    {
     "data": {
      "text/plain": [
       "Text(0, 0.5, 'Distance')"
      ]
     },
     "execution_count": 31,
     "metadata": {},
     "output_type": "execute_result"
    },
    {
     "data": {
      "image/png": "[encoded data removed]",
      "text/plain": [
       "<Figure size 360x360 with 1 Axes>"
      ]
     },
     "metadata": {},
     "output_type": "display_data"
    }
   ],
   "source": [
    "#estimating epsilon\n",
    "\n",
    "from sklearn.neighbors import NearestNeighbors\n",
    "from kneed import KneeLocator\n",
    "\n",
    "nearest_neighbors = NearestNeighbors(n_neighbors=11)\n",
    "neighbors = nearest_neighbors.fit(np_low)\n",
    "distances, indices = neighbors.kneighbors(np_low)\n",
    "\n",
    "distances = np.sort(distances[:,10], axis=0)\n",
    "\n",
    "i = np.arange(len(distances))\n",
    "knee = KneeLocator(i, distances, S=1, curve='convex', direction='increasing', interp_method='polynomial')\n",
    "\n",
    "fig = plt.figure(figsize=(5, 5))\n",
    "plt.plot(distances)\n",
    "plt.xlabel(\"Points\")\n",
    "plt.ylabel(\"Distance\")"
   ]
  },
  {
   "cell_type": "code",
   "execution_count": 32,
   "metadata": {},
   "outputs": [
    {
     "data": {
      "text/plain": [
       "Text(0, 0.5, 'Distance')"
      ]
     },
     "execution_count": 32,
     "metadata": {},
     "output_type": "execute_result"
    },
    {
     "data": {
      "image/png": "[encoded data removed]",
      "text/plain": [
       "<Figure size 360x360 with 1 Axes>"
      ]
     },
     "metadata": {},
     "output_type": "display_data"
    }
   ],
   "source": [
    "fig = plt.figure(figsize=(5, 5))\n",
    "plt.plot(distances[99000:100000])\n",
    "plt.xlabel(\"Points\")\n",
    "plt.ylabel(\"Distance\")"
   ]
  },
  {
   "cell_type": "code",
   "execution_count": 33,
   "metadata": {},
   "outputs": [
    {
     "name": "stdout",
     "output_type": "stream",
     "text": [
      "0.18\n",
      "0.19\n",
      "0.2\n",
      "0.21\n",
      "0.22\n",
      "0.23\n",
      "0.24\n"
     ]
    }
   ],
   "source": [
    "eval_dbscan = []\n",
    "for j in [0.18,0.19,0.2,0.21,0.22, 0.23, 0.24]:\n",
    "    print(j)\n",
    "    df_dbscan = dbscan(df_low, j, 10)\n",
    "    metrics_dbscan = evall(df_dbscan)\n",
    "    eval_dbscan.append(metrics_dbscan)"
   ]
  },
  {
   "cell_type": "code",
   "execution_count": 34,
   "metadata": {
    "scrolled": false
   },
   "outputs": [
    {
     "data": {
      "text/plain": [
       "[[0.9142758323583235,\n",
       "  0.5959164471331304,\n",
       "  1.7679656868218945,\n",
       "  0.7816489683642486,\n",
       "  0.7866926772694881,\n",
       "  0.7770318160261407,\n",
       "  0.7818324037182052,\n",
       "  0.6447445361438682],\n",
       " [0.9144963351633516,\n",
       "  0.5974377118632799,\n",
       "  1.7701127368382645,\n",
       "  0.7828443434397984,\n",
       "  0.7876480513122083,\n",
       "  0.7784610656841313,\n",
       "  0.7830276125133674,\n",
       "  0.6461634738683977],\n",
       " [0.9146910793107931,\n",
       "  0.5987858175924663,\n",
       "  1.7728642009990085,\n",
       "  0.7841550382634597,\n",
       "  0.788872371853699,\n",
       "  0.7798829841623377,\n",
       "  0.7843519222103551,\n",
       "  0.6474224052559591],\n",
       " [0.9148172979729797,\n",
       "  0.5996623283770275,\n",
       "  1.7743942570793507,\n",
       "  0.7848859932954746,\n",
       "  0.7895532017607435,\n",
       "  0.7806543073121912,\n",
       "  0.7850785380214689,\n",
       "  0.6482417675329769],\n",
       " [0.9150629636296364,\n",
       "  0.6014604699883374,\n",
       "  1.7756976633450066,\n",
       "  0.7860366332482293,\n",
       "  0.7901331791733944,\n",
       "  0.7823908839675687,\n",
       "  0.7862429720417726,\n",
       "  0.6499349022044353],\n",
       " [0.9033939171391714,\n",
       "  0.5654075101266218,\n",
       "  1.6716247043490684,\n",
       "  0.7580210216645745,\n",
       "  0.7438237765904471,\n",
       "  0.7732231656218002,\n",
       "  0.7582386005291604,\n",
       "  0.6219469337892028],\n",
       " [0.9035346825468255,\n",
       "  0.5664335121401012,\n",
       "  1.6728990544717104,\n",
       "  0.7589284686177278,\n",
       "  0.7443908248749429,\n",
       "  0.7744823007239484,\n",
       "  0.7591384809835552,\n",
       "  0.6229368985082216]]"
      ]
     },
     "execution_count": 34,
     "metadata": {},
     "output_type": "execute_result"
    }
   ],
   "source": [
    "eval_dbscan"
   ]
  },
  {
   "cell_type": "code",
   "execution_count": 48,
   "metadata": {},
   "outputs": [],
   "source": [
    "eval_dbscan = []\n",
    "for i in [3,4,5,6]:\n",
    "    df_dbscan = dbscan(df_low, 0.22, i)\n",
    "    metrics_dbscan = evall(df_dbscan)\n",
    "    eval_dbscan.append(metrics_dbscan)"
   ]
  },
  {
   "cell_type": "code",
   "execution_count": 49,
   "metadata": {
    "collapsed": true
   },
   "outputs": [
    {
     "data": {
      "text/plain": [
       "[[0.9157950989509895,\n",
       "  0.6057962392641365,\n",
       "  1.795112896750436,\n",
       "  0.7863774394312752,\n",
       "  0.7987723864053999,\n",
       "  0.7759941032238292,\n",
       "  0.7872185060460046,\n",
       "  0.6539070410764982],\n",
       " [0.9156933137331373,\n",
       "  0.6052079921835086,\n",
       "  1.7915228159621104,\n",
       "  0.7873841645659807,\n",
       "  0.7971749061556228,\n",
       "  0.7790282558261067,\n",
       "  0.7879971208152591,\n",
       "  0.6533699145685337],\n",
       " [0.9155761015610157,\n",
       "  0.6045411602383508,\n",
       "  1.7879681360060633,\n",
       "  0.7884065464744955,\n",
       "  0.79559317823392,\n",
       "  0.7821612834448315,\n",
       "  0.7888200559740824,\n",
       "  0.6527626644515407],\n",
       " [0.9154237690376904,\n",
       "  0.603678982252242,\n",
       "  1.784527605366651,\n",
       "  0.7881039748500106,\n",
       "  0.7940622433972758,\n",
       "  0.7828663965079932,\n",
       "  0.7884245759260513,\n",
       "  0.6519783079823874]]"
      ]
     },
     "execution_count": 49,
     "metadata": {},
     "output_type": "execute_result"
    }
   ],
   "source": [
    "eval_dbscan"
   ]
  },
  {
   "cell_type": "code",
   "execution_count": 50,
   "metadata": {},
   "outputs": [],
   "source": [
    "df_dbscan = dbscan(df_low, 0.22, 4)"
   ]
  },
  {
   "cell_type": "code",
   "execution_count": 38,
   "metadata": {},
   "outputs": [],
   "source": [
    "#evall(df_dbscan)"
   ]
  },
  {
   "cell_type": "code",
   "execution_count": 51,
   "metadata": {},
   "outputs": [],
   "source": [
    "df_eval.loc['dbscan(0.22,4)']=evall(df_dbscan)\n",
    "df_eval.to_csv('eval_baby_k10_e10_lof')"
   ]
  },
  {
   "cell_type": "markdown",
   "metadata": {},
   "source": [
    "# OPTICS"
   ]
  },
  {
   "cell_type": "code",
   "execution_count": 40,
   "metadata": {},
   "outputs": [],
   "source": [
    "def optics(low_data):\n",
    "    low_data_2 = low_data.copy()\n",
    "    opti = OPTICS().fit(low_data_2)\n",
    "    low_data_2[\"cluster_label\"] = opti.labels_\n",
    "    low_data_2[\"label\"] = reduced_label\n",
    "    return low_data_2"
   ]
  },
  {
   "cell_type": "code",
   "execution_count": 41,
   "metadata": {},
   "outputs": [],
   "source": [
    "df_optics = optics(df_low)\n",
    "df_eval.loc['optics']=evall(df_optics)\n",
    "df_eval.to_csv('eval_baby_k10_e10_lof')"
   ]
  },
  {
   "cell_type": "code",
   "execution_count": 42,
   "metadata": {},
   "outputs": [
    {
     "data": {
      "text/html": [
       "<div>\n",
       "<style scoped>\n",
       "    .dataframe tbody tr th:only-of-type {\n",
       "        vertical-align: middle;\n",
       "    }\n",
       "\n",
       "    .dataframe tbody tr th {\n",
       "        vertical-align: top;\n",
       "    }\n",
       "\n",
       "    .dataframe thead th {\n",
       "        text-align: right;\n",
       "    }\n",
       "</style>\n",
       "<table border=\"1\" class=\"dataframe\">\n",
       "  <thead>\n",
       "    <tr style=\"text-align: right;\">\n",
       "      <th></th>\n",
       "      <th>rand_score</th>\n",
       "      <th>adjusted_rand_score</th>\n",
       "      <th>mutual_info_score</th>\n",
       "      <th>adjusted_mutual_info_score</th>\n",
       "      <th>homogeneity_score</th>\n",
       "      <th>completeness_score</th>\n",
       "      <th>v_measure_score</th>\n",
       "      <th>fowlkes_mallows_score</th>\n",
       "    </tr>\n",
       "  </thead>\n",
       "  <tbody>\n",
       "    <tr>\n",
       "      <th>kmeans_cl3</th>\n",
       "      <td>0.708050</td>\n",
       "      <td>0.254226</td>\n",
       "      <td>0.795680</td>\n",
       "      <td>0.480394</td>\n",
       "      <td>0.353508</td>\n",
       "      <td>0.749392</td>\n",
       "      <td>0.480400</td>\n",
       "      <td>0.447705</td>\n",
       "    </tr>\n",
       "    <tr>\n",
       "      <th>kmeans_cl4</th>\n",
       "      <td>0.709355</td>\n",
       "      <td>0.255114</td>\n",
       "      <td>0.808168</td>\n",
       "      <td>0.485417</td>\n",
       "      <td>0.359057</td>\n",
       "      <td>0.749051</td>\n",
       "      <td>0.485425</td>\n",
       "      <td>0.447842</td>\n",
       "    </tr>\n",
       "    <tr>\n",
       "      <th>kmeans_cl5</th>\n",
       "      <td>0.730718</td>\n",
       "      <td>0.266264</td>\n",
       "      <td>0.935778</td>\n",
       "      <td>0.532730</td>\n",
       "      <td>0.415752</td>\n",
       "      <td>0.741348</td>\n",
       "      <td>0.532740</td>\n",
       "      <td>0.445338</td>\n",
       "    </tr>\n",
       "    <tr>\n",
       "      <th>kmeans_cl6</th>\n",
       "      <td>0.730508</td>\n",
       "      <td>0.266386</td>\n",
       "      <td>0.934724</td>\n",
       "      <td>0.532245</td>\n",
       "      <td>0.415284</td>\n",
       "      <td>0.740966</td>\n",
       "      <td>0.532257</td>\n",
       "      <td>0.445650</td>\n",
       "    </tr>\n",
       "    <tr>\n",
       "      <th>kmeans_cl7</th>\n",
       "      <td>0.730752</td>\n",
       "      <td>0.266216</td>\n",
       "      <td>0.936046</td>\n",
       "      <td>0.532258</td>\n",
       "      <td>0.415871</td>\n",
       "      <td>0.739165</td>\n",
       "      <td>0.532273</td>\n",
       "      <td>0.445253</td>\n",
       "    </tr>\n",
       "    <tr>\n",
       "      <th>kmeans_cl8</th>\n",
       "      <td>0.834176</td>\n",
       "      <td>0.422693</td>\n",
       "      <td>1.225118</td>\n",
       "      <td>0.640419</td>\n",
       "      <td>0.544301</td>\n",
       "      <td>0.777800</td>\n",
       "      <td>0.640431</td>\n",
       "      <td>0.537406</td>\n",
       "    </tr>\n",
       "    <tr>\n",
       "      <th>kmeans_cl9</th>\n",
       "      <td>0.850152</td>\n",
       "      <td>0.455128</td>\n",
       "      <td>1.335423</td>\n",
       "      <td>0.678496</td>\n",
       "      <td>0.593308</td>\n",
       "      <td>0.792281</td>\n",
       "      <td>0.678508</td>\n",
       "      <td>0.557863</td>\n",
       "    </tr>\n",
       "    <tr>\n",
       "      <th>kmeans_cl10</th>\n",
       "      <td>0.886307</td>\n",
       "      <td>0.529055</td>\n",
       "      <td>1.471950</td>\n",
       "      <td>0.711896</td>\n",
       "      <td>0.653965</td>\n",
       "      <td>0.781115</td>\n",
       "      <td>0.711907</td>\n",
       "      <td>0.600828</td>\n",
       "    </tr>\n",
       "    <tr>\n",
       "      <th>kmeans_cl11</th>\n",
       "      <td>0.883545</td>\n",
       "      <td>0.512266</td>\n",
       "      <td>1.473095</td>\n",
       "      <td>0.705389</td>\n",
       "      <td>0.654474</td>\n",
       "      <td>0.764926</td>\n",
       "      <td>0.705402</td>\n",
       "      <td>0.584556</td>\n",
       "    </tr>\n",
       "    <tr>\n",
       "      <th>kmeans_cl12</th>\n",
       "      <td>0.881742</td>\n",
       "      <td>0.475467</td>\n",
       "      <td>1.480105</td>\n",
       "      <td>0.687457</td>\n",
       "      <td>0.657588</td>\n",
       "      <td>0.720201</td>\n",
       "      <td>0.687472</td>\n",
       "      <td>0.544989</td>\n",
       "    </tr>\n",
       "    <tr>\n",
       "      <th>minibatch_kmeans_cl3</th>\n",
       "      <td>0.708710</td>\n",
       "      <td>0.255465</td>\n",
       "      <td>0.799722</td>\n",
       "      <td>0.482775</td>\n",
       "      <td>0.355304</td>\n",
       "      <td>0.752909</td>\n",
       "      <td>0.482780</td>\n",
       "      <td>0.448757</td>\n",
       "    </tr>\n",
       "    <tr>\n",
       "      <th>minibatch_kmeans_cl4</th>\n",
       "      <td>0.729527</td>\n",
       "      <td>0.265315</td>\n",
       "      <td>0.923872</td>\n",
       "      <td>0.528490</td>\n",
       "      <td>0.410462</td>\n",
       "      <td>0.741820</td>\n",
       "      <td>0.528498</td>\n",
       "      <td>0.445104</td>\n",
       "    </tr>\n",
       "    <tr>\n",
       "      <th>minibatch_kmeans_cl5</th>\n",
       "      <td>0.833012</td>\n",
       "      <td>0.421096</td>\n",
       "      <td>1.211086</td>\n",
       "      <td>0.636570</td>\n",
       "      <td>0.538067</td>\n",
       "      <td>0.779242</td>\n",
       "      <td>0.636577</td>\n",
       "      <td>0.536810</td>\n",
       "    </tr>\n",
       "    <tr>\n",
       "      <th>minibatch_kmeans_cl6</th>\n",
       "      <td>0.850126</td>\n",
       "      <td>0.456237</td>\n",
       "      <td>1.326151</td>\n",
       "      <td>0.676904</td>\n",
       "      <td>0.589189</td>\n",
       "      <td>0.795326</td>\n",
       "      <td>0.676912</td>\n",
       "      <td>0.559257</td>\n",
       "    </tr>\n",
       "    <tr>\n",
       "      <th>minibatch_kmeans_cl7</th>\n",
       "      <td>0.871987</td>\n",
       "      <td>0.493000</td>\n",
       "      <td>1.365460</td>\n",
       "      <td>0.678011</td>\n",
       "      <td>0.606653</td>\n",
       "      <td>0.768415</td>\n",
       "      <td>0.678019</td>\n",
       "      <td>0.576197</td>\n",
       "    </tr>\n",
       "    <tr>\n",
       "      <th>minibatch_kmeans_cl8</th>\n",
       "      <td>0.901425</td>\n",
       "      <td>0.577245</td>\n",
       "      <td>1.559029</td>\n",
       "      <td>0.740518</td>\n",
       "      <td>0.692653</td>\n",
       "      <td>0.795507</td>\n",
       "      <td>0.740526</td>\n",
       "      <td>0.638163</td>\n",
       "    </tr>\n",
       "    <tr>\n",
       "      <th>minibatch_kmeans_cl9</th>\n",
       "      <td>0.906318</td>\n",
       "      <td>0.583806</td>\n",
       "      <td>1.622461</td>\n",
       "      <td>0.753026</td>\n",
       "      <td>0.720835</td>\n",
       "      <td>0.788246</td>\n",
       "      <td>0.753035</td>\n",
       "      <td>0.639648</td>\n",
       "    </tr>\n",
       "    <tr>\n",
       "      <th>minibatch_kmeans_cl10</th>\n",
       "      <td>0.900111</td>\n",
       "      <td>0.564256</td>\n",
       "      <td>1.580561</td>\n",
       "      <td>0.742259</td>\n",
       "      <td>0.702219</td>\n",
       "      <td>0.787163</td>\n",
       "      <td>0.742269</td>\n",
       "      <td>0.624659</td>\n",
       "    </tr>\n",
       "    <tr>\n",
       "      <th>minibatch_kmeans_cl11</th>\n",
       "      <td>0.897101</td>\n",
       "      <td>0.544973</td>\n",
       "      <td>1.581605</td>\n",
       "      <td>0.734725</td>\n",
       "      <td>0.702683</td>\n",
       "      <td>0.769854</td>\n",
       "      <td>0.734736</td>\n",
       "      <td>0.606178</td>\n",
       "    </tr>\n",
       "    <tr>\n",
       "      <th>minibatch_kmeans_cl12</th>\n",
       "      <td>0.897167</td>\n",
       "      <td>0.545162</td>\n",
       "      <td>1.585516</td>\n",
       "      <td>0.735869</td>\n",
       "      <td>0.704421</td>\n",
       "      <td>0.770283</td>\n",
       "      <td>0.735881</td>\n",
       "      <td>0.606318</td>\n",
       "    </tr>\n",
       "    <tr>\n",
       "      <th>meanshift</th>\n",
       "      <td>0.431294</td>\n",
       "      <td>0.055447</td>\n",
       "      <td>0.316492</td>\n",
       "      <td>0.220588</td>\n",
       "      <td>0.140829</td>\n",
       "      <td>0.523817</td>\n",
       "      <td>0.221979</td>\n",
       "      <td>0.334901</td>\n",
       "    </tr>\n",
       "    <tr>\n",
       "      <th>optics</th>\n",
       "      <td>0.706852</td>\n",
       "      <td>0.043667</td>\n",
       "      <td>1.185696</td>\n",
       "      <td>0.258284</td>\n",
       "      <td>0.527600</td>\n",
       "      <td>0.233895</td>\n",
       "      <td>0.324107</td>\n",
       "      <td>0.210029</td>\n",
       "    </tr>\n",
       "  </tbody>\n",
       "</table>\n",
       "</div>"
      ],
      "text/plain": [
       "                       rand_score  adjusted_rand_score  mutual_info_score  \\\n",
       "kmeans_cl3               0.708050             0.254226           0.795680   \n",
       "kmeans_cl4               0.709355             0.255114           0.808168   \n",
       "kmeans_cl5               0.730718             0.266264           0.935778   \n",
       "kmeans_cl6               0.730508             0.266386           0.934724   \n",
       "kmeans_cl7               0.730752             0.266216           0.936046   \n",
       "kmeans_cl8               0.834176             0.422693           1.225118   \n",
       "kmeans_cl9               0.850152             0.455128           1.335423   \n",
       "kmeans_cl10              0.886307             0.529055           1.471950   \n",
       "kmeans_cl11              0.883545             0.512266           1.473095   \n",
       "kmeans_cl12              0.881742             0.475467           1.480105   \n",
       "minibatch_kmeans_cl3     0.708710             0.255465           0.799722   \n",
       "minibatch_kmeans_cl4     0.729527             0.265315           0.923872   \n",
       "minibatch_kmeans_cl5     0.833012             0.421096           1.211086   \n",
       "minibatch_kmeans_cl6     0.850126             0.456237           1.326151   \n",
       "minibatch_kmeans_cl7     0.871987             0.493000           1.365460   \n",
       "minibatch_kmeans_cl8     0.901425             0.577245           1.559029   \n",
       "minibatch_kmeans_cl9     0.906318             0.583806           1.622461   \n",
       "minibatch_kmeans_cl10    0.900111             0.564256           1.580561   \n",
       "minibatch_kmeans_cl11    0.897101             0.544973           1.581605   \n",
       "minibatch_kmeans_cl12    0.897167             0.545162           1.585516   \n",
       "meanshift                0.431294             0.055447           0.316492   \n",
       "optics                   0.706852             0.043667           1.185696   \n",
       "\n",
       "                       adjusted_mutual_info_score  homogeneity_score  \\\n",
       "kmeans_cl3                               0.480394           0.353508   \n",
       "kmeans_cl4                               0.485417           0.359057   \n",
       "kmeans_cl5                               0.532730           0.415752   \n",
       "kmeans_cl6                               0.532245           0.415284   \n",
       "kmeans_cl7                               0.532258           0.415871   \n",
       "kmeans_cl8                               0.640419           0.544301   \n",
       "kmeans_cl9                               0.678496           0.593308   \n",
       "kmeans_cl10                              0.711896           0.653965   \n",
       "kmeans_cl11                              0.705389           0.654474   \n",
       "kmeans_cl12                              0.687457           0.657588   \n",
       "minibatch_kmeans_cl3                     0.482775           0.355304   \n",
       "minibatch_kmeans_cl4                     0.528490           0.410462   \n",
       "minibatch_kmeans_cl5                     0.636570           0.538067   \n",
       "minibatch_kmeans_cl6                     0.676904           0.589189   \n",
       "minibatch_kmeans_cl7                     0.678011           0.606653   \n",
       "minibatch_kmeans_cl8                     0.740518           0.692653   \n",
       "minibatch_kmeans_cl9                     0.753026           0.720835   \n",
       "minibatch_kmeans_cl10                    0.742259           0.702219   \n",
       "minibatch_kmeans_cl11                    0.734725           0.702683   \n",
       "minibatch_kmeans_cl12                    0.735869           0.704421   \n",
       "meanshift                                0.220588           0.140829   \n",
       "optics                                   0.258284           0.527600   \n",
       "\n",
       "                       completeness_score  v_measure_score  \\\n",
       "kmeans_cl3                       0.749392         0.480400   \n",
       "kmeans_cl4                       0.749051         0.485425   \n",
       "kmeans_cl5                       0.741348         0.532740   \n",
       "kmeans_cl6                       0.740966         0.532257   \n",
       "kmeans_cl7                       0.739165         0.532273   \n",
       "kmeans_cl8                       0.777800         0.640431   \n",
       "kmeans_cl9                       0.792281         0.678508   \n",
       "kmeans_cl10                      0.781115         0.711907   \n",
       "kmeans_cl11                      0.764926         0.705402   \n",
       "kmeans_cl12                      0.720201         0.687472   \n",
       "minibatch_kmeans_cl3             0.752909         0.482780   \n",
       "minibatch_kmeans_cl4             0.741820         0.528498   \n",
       "minibatch_kmeans_cl5             0.779242         0.636577   \n",
       "minibatch_kmeans_cl6             0.795326         0.676912   \n",
       "minibatch_kmeans_cl7             0.768415         0.678019   \n",
       "minibatch_kmeans_cl8             0.795507         0.740526   \n",
       "minibatch_kmeans_cl9             0.788246         0.753035   \n",
       "minibatch_kmeans_cl10            0.787163         0.742269   \n",
       "minibatch_kmeans_cl11            0.769854         0.734736   \n",
       "minibatch_kmeans_cl12            0.770283         0.735881   \n",
       "meanshift                        0.523817         0.221979   \n",
       "optics                           0.233895         0.324107   \n",
       "\n",
       "                       fowlkes_mallows_score  \n",
       "kmeans_cl3                          0.447705  \n",
       "kmeans_cl4                          0.447842  \n",
       "kmeans_cl5                          0.445338  \n",
       "kmeans_cl6                          0.445650  \n",
       "kmeans_cl7                          0.445253  \n",
       "kmeans_cl8                          0.537406  \n",
       "kmeans_cl9                          0.557863  \n",
       "kmeans_cl10                         0.600828  \n",
       "kmeans_cl11                         0.584556  \n",
       "kmeans_cl12                         0.544989  \n",
       "minibatch_kmeans_cl3                0.448757  \n",
       "minibatch_kmeans_cl4                0.445104  \n",
       "minibatch_kmeans_cl5                0.536810  \n",
       "minibatch_kmeans_cl6                0.559257  \n",
       "minibatch_kmeans_cl7                0.576197  \n",
       "minibatch_kmeans_cl8                0.638163  \n",
       "minibatch_kmeans_cl9                0.639648  \n",
       "minibatch_kmeans_cl10               0.624659  \n",
       "minibatch_kmeans_cl11               0.606178  \n",
       "minibatch_kmeans_cl12               0.606318  \n",
       "meanshift                           0.334901  \n",
       "optics                              0.210029  "
      ]
     },
     "execution_count": 42,
     "metadata": {},
     "output_type": "execute_result"
    }
   ],
   "source": [
    "df_eval"
   ]
  },
  {
   "cell_type": "markdown",
   "metadata": {},
   "source": [
    "# HDBSCAN"
   ]
  },
  {
   "cell_type": "code",
   "execution_count": 43,
   "metadata": {},
   "outputs": [
    {
     "data": {
      "text/plain": [
       "'\\ndef hdbscann(low_data):\\n    low_data_2 = low_data.copy()\\n    hdb = hdbscan.HDBSCAN().fit(low_data_2)\\n    low_data_2[\"cluster_label\"] = hdb.labels_\\n    low_data_2[\"label\"] = reduced_label\\n    return low_data_2'"
      ]
     },
     "execution_count": 43,
     "metadata": {},
     "output_type": "execute_result"
    }
   ],
   "source": [
    "'''\n",
    "def hdbscann(low_data):\n",
    "    low_data_2 = low_data.copy()\n",
    "    hdb = hdbscan.HDBSCAN().fit(low_data_2)\n",
    "    low_data_2[\"cluster_label\"] = hdb.labels_\n",
    "    low_data_2[\"label\"] = reduced_label\n",
    "    return low_data_2'''"
   ]
  },
  {
   "cell_type": "code",
   "execution_count": 44,
   "metadata": {},
   "outputs": [
    {
     "data": {
      "text/plain": [
       "\"\\ndf_hdbscan = hdbscann(df_low)\\ndf_eval.loc['hdbscan']=evall(df_hdbscan)\\ndf_eval.to_csv('eval_baby_k10_e1')\""
      ]
     },
     "execution_count": 44,
     "metadata": {},
     "output_type": "execute_result"
    }
   ],
   "source": [
    "'''\n",
    "df_hdbscan = hdbscann(df_low)\n",
    "df_eval.loc['hdbscan']=evall(df_hdbscan)\n",
    "df_eval.to_csv('eval_baby_k10_e1')'''"
   ]
  },
  {
   "cell_type": "markdown",
   "metadata": {},
   "source": [
    "# SPECTRAL"
   ]
  },
  {
   "cell_type": "code",
   "execution_count": 45,
   "metadata": {},
   "outputs": [
    {
     "data": {
      "text/plain": [
       "'\\nfrom sklearn.cluster import SpectralClustering\\n\\ndef spectral(low_data):\\n    low_data_2 = low_data.copy()\\n    spectra = SpectralClustering().fit(low_data_2)\\n    low_data_2[\"cluster_label\"] = spectra.labels_\\n    low_data_2[\"label\"] = reduced_label\\n    return low_data_2\\n'"
      ]
     },
     "execution_count": 45,
     "metadata": {},
     "output_type": "execute_result"
    }
   ],
   "source": [
    "'''\n",
    "from sklearn.cluster import SpectralClustering\n",
    "\n",
    "def spectral(low_data):\n",
    "    low_data_2 = low_data.copy()\n",
    "    spectra = SpectralClustering().fit(low_data_2)\n",
    "    low_data_2[\"cluster_label\"] = spectra.labels_\n",
    "    low_data_2[\"label\"] = reduced_label\n",
    "    return low_data_2\n",
    "'''"
   ]
  },
  {
   "cell_type": "code",
   "execution_count": 46,
   "metadata": {},
   "outputs": [
    {
     "data": {
      "text/plain": [
       "\"\\ndf_spectra = spectral(df_low)\\ndf_eval.loc['spectral']=evall(df_spectra)\\ndf_eval.to_csv('eval_baby_k10_e1_lof')\\n\""
      ]
     },
     "execution_count": 46,
     "metadata": {},
     "output_type": "execute_result"
    }
   ],
   "source": [
    "'''\n",
    "df_spectra = spectral(df_low)\n",
    "df_eval.loc['spectral']=evall(df_spectra)\n",
    "df_eval.to_csv('eval_baby_k10_e1_lof')\n",
    "'''"
   ]
  },
  {
   "cell_type": "code",
   "execution_count": null,
   "metadata": {},
   "outputs": [],
   "source": []
  },
  {
   "cell_type": "code",
   "execution_count": null,
   "metadata": {},
   "outputs": [],
   "source": []
  },
  {
   "cell_type": "code",
   "execution_count": 47,
   "metadata": {},
   "outputs": [
    {
     "data": {
      "text/html": [
       "<div>\n",
       "<style scoped>\n",
       "    .dataframe tbody tr th:only-of-type {\n",
       "        vertical-align: middle;\n",
       "    }\n",
       "\n",
       "    .dataframe tbody tr th {\n",
       "        vertical-align: top;\n",
       "    }\n",
       "\n",
       "    .dataframe thead th {\n",
       "        text-align: right;\n",
       "    }\n",
       "</style>\n",
       "<table border=\"1\" class=\"dataframe\">\n",
       "  <thead>\n",
       "    <tr style=\"text-align: right;\">\n",
       "      <th></th>\n",
       "      <th>rand_score</th>\n",
       "      <th>adjusted_rand_score</th>\n",
       "      <th>mutual_info_score</th>\n",
       "      <th>adjusted_mutual_info_score</th>\n",
       "      <th>homogeneity_score</th>\n",
       "      <th>completeness_score</th>\n",
       "      <th>v_measure_score</th>\n",
       "      <th>fowlkes_mallows_score</th>\n",
       "    </tr>\n",
       "  </thead>\n",
       "  <tbody>\n",
       "    <tr>\n",
       "      <th>kmeans_cl3</th>\n",
       "      <td>0.708050</td>\n",
       "      <td>0.254226</td>\n",
       "      <td>0.795680</td>\n",
       "      <td>0.480394</td>\n",
       "      <td>0.353508</td>\n",
       "      <td>0.749392</td>\n",
       "      <td>0.480400</td>\n",
       "      <td>0.447705</td>\n",
       "    </tr>\n",
       "    <tr>\n",
       "      <th>kmeans_cl4</th>\n",
       "      <td>0.709355</td>\n",
       "      <td>0.255114</td>\n",
       "      <td>0.808168</td>\n",
       "      <td>0.485417</td>\n",
       "      <td>0.359057</td>\n",
       "      <td>0.749051</td>\n",
       "      <td>0.485425</td>\n",
       "      <td>0.447842</td>\n",
       "    </tr>\n",
       "    <tr>\n",
       "      <th>kmeans_cl5</th>\n",
       "      <td>0.730718</td>\n",
       "      <td>0.266264</td>\n",
       "      <td>0.935778</td>\n",
       "      <td>0.532730</td>\n",
       "      <td>0.415752</td>\n",
       "      <td>0.741348</td>\n",
       "      <td>0.532740</td>\n",
       "      <td>0.445338</td>\n",
       "    </tr>\n",
       "    <tr>\n",
       "      <th>kmeans_cl6</th>\n",
       "      <td>0.730508</td>\n",
       "      <td>0.266386</td>\n",
       "      <td>0.934724</td>\n",
       "      <td>0.532245</td>\n",
       "      <td>0.415284</td>\n",
       "      <td>0.740966</td>\n",
       "      <td>0.532257</td>\n",
       "      <td>0.445650</td>\n",
       "    </tr>\n",
       "    <tr>\n",
       "      <th>kmeans_cl7</th>\n",
       "      <td>0.730752</td>\n",
       "      <td>0.266216</td>\n",
       "      <td>0.936046</td>\n",
       "      <td>0.532258</td>\n",
       "      <td>0.415871</td>\n",
       "      <td>0.739165</td>\n",
       "      <td>0.532273</td>\n",
       "      <td>0.445253</td>\n",
       "    </tr>\n",
       "    <tr>\n",
       "      <th>kmeans_cl8</th>\n",
       "      <td>0.834176</td>\n",
       "      <td>0.422693</td>\n",
       "      <td>1.225118</td>\n",
       "      <td>0.640419</td>\n",
       "      <td>0.544301</td>\n",
       "      <td>0.777800</td>\n",
       "      <td>0.640431</td>\n",
       "      <td>0.537406</td>\n",
       "    </tr>\n",
       "    <tr>\n",
       "      <th>kmeans_cl9</th>\n",
       "      <td>0.850152</td>\n",
       "      <td>0.455128</td>\n",
       "      <td>1.335423</td>\n",
       "      <td>0.678496</td>\n",
       "      <td>0.593308</td>\n",
       "      <td>0.792281</td>\n",
       "      <td>0.678508</td>\n",
       "      <td>0.557863</td>\n",
       "    </tr>\n",
       "    <tr>\n",
       "      <th>kmeans_cl10</th>\n",
       "      <td>0.886307</td>\n",
       "      <td>0.529055</td>\n",
       "      <td>1.471950</td>\n",
       "      <td>0.711896</td>\n",
       "      <td>0.653965</td>\n",
       "      <td>0.781115</td>\n",
       "      <td>0.711907</td>\n",
       "      <td>0.600828</td>\n",
       "    </tr>\n",
       "    <tr>\n",
       "      <th>kmeans_cl11</th>\n",
       "      <td>0.883545</td>\n",
       "      <td>0.512266</td>\n",
       "      <td>1.473095</td>\n",
       "      <td>0.705389</td>\n",
       "      <td>0.654474</td>\n",
       "      <td>0.764926</td>\n",
       "      <td>0.705402</td>\n",
       "      <td>0.584556</td>\n",
       "    </tr>\n",
       "    <tr>\n",
       "      <th>kmeans_cl12</th>\n",
       "      <td>0.881742</td>\n",
       "      <td>0.475467</td>\n",
       "      <td>1.480105</td>\n",
       "      <td>0.687457</td>\n",
       "      <td>0.657588</td>\n",
       "      <td>0.720201</td>\n",
       "      <td>0.687472</td>\n",
       "      <td>0.544989</td>\n",
       "    </tr>\n",
       "    <tr>\n",
       "      <th>minibatch_kmeans_cl3</th>\n",
       "      <td>0.708710</td>\n",
       "      <td>0.255465</td>\n",
       "      <td>0.799722</td>\n",
       "      <td>0.482775</td>\n",
       "      <td>0.355304</td>\n",
       "      <td>0.752909</td>\n",
       "      <td>0.482780</td>\n",
       "      <td>0.448757</td>\n",
       "    </tr>\n",
       "    <tr>\n",
       "      <th>minibatch_kmeans_cl4</th>\n",
       "      <td>0.729527</td>\n",
       "      <td>0.265315</td>\n",
       "      <td>0.923872</td>\n",
       "      <td>0.528490</td>\n",
       "      <td>0.410462</td>\n",
       "      <td>0.741820</td>\n",
       "      <td>0.528498</td>\n",
       "      <td>0.445104</td>\n",
       "    </tr>\n",
       "    <tr>\n",
       "      <th>minibatch_kmeans_cl5</th>\n",
       "      <td>0.833012</td>\n",
       "      <td>0.421096</td>\n",
       "      <td>1.211086</td>\n",
       "      <td>0.636570</td>\n",
       "      <td>0.538067</td>\n",
       "      <td>0.779242</td>\n",
       "      <td>0.636577</td>\n",
       "      <td>0.536810</td>\n",
       "    </tr>\n",
       "    <tr>\n",
       "      <th>minibatch_kmeans_cl6</th>\n",
       "      <td>0.850126</td>\n",
       "      <td>0.456237</td>\n",
       "      <td>1.326151</td>\n",
       "      <td>0.676904</td>\n",
       "      <td>0.589189</td>\n",
       "      <td>0.795326</td>\n",
       "      <td>0.676912</td>\n",
       "      <td>0.559257</td>\n",
       "    </tr>\n",
       "    <tr>\n",
       "      <th>minibatch_kmeans_cl7</th>\n",
       "      <td>0.871987</td>\n",
       "      <td>0.493000</td>\n",
       "      <td>1.365460</td>\n",
       "      <td>0.678011</td>\n",
       "      <td>0.606653</td>\n",
       "      <td>0.768415</td>\n",
       "      <td>0.678019</td>\n",
       "      <td>0.576197</td>\n",
       "    </tr>\n",
       "    <tr>\n",
       "      <th>minibatch_kmeans_cl8</th>\n",
       "      <td>0.901425</td>\n",
       "      <td>0.577245</td>\n",
       "      <td>1.559029</td>\n",
       "      <td>0.740518</td>\n",
       "      <td>0.692653</td>\n",
       "      <td>0.795507</td>\n",
       "      <td>0.740526</td>\n",
       "      <td>0.638163</td>\n",
       "    </tr>\n",
       "    <tr>\n",
       "      <th>minibatch_kmeans_cl9</th>\n",
       "      <td>0.906318</td>\n",
       "      <td>0.583806</td>\n",
       "      <td>1.622461</td>\n",
       "      <td>0.753026</td>\n",
       "      <td>0.720835</td>\n",
       "      <td>0.788246</td>\n",
       "      <td>0.753035</td>\n",
       "      <td>0.639648</td>\n",
       "    </tr>\n",
       "    <tr>\n",
       "      <th>minibatch_kmeans_cl10</th>\n",
       "      <td>0.900111</td>\n",
       "      <td>0.564256</td>\n",
       "      <td>1.580561</td>\n",
       "      <td>0.742259</td>\n",
       "      <td>0.702219</td>\n",
       "      <td>0.787163</td>\n",
       "      <td>0.742269</td>\n",
       "      <td>0.624659</td>\n",
       "    </tr>\n",
       "    <tr>\n",
       "      <th>minibatch_kmeans_cl11</th>\n",
       "      <td>0.897101</td>\n",
       "      <td>0.544973</td>\n",
       "      <td>1.581605</td>\n",
       "      <td>0.734725</td>\n",
       "      <td>0.702683</td>\n",
       "      <td>0.769854</td>\n",
       "      <td>0.734736</td>\n",
       "      <td>0.606178</td>\n",
       "    </tr>\n",
       "    <tr>\n",
       "      <th>minibatch_kmeans_cl12</th>\n",
       "      <td>0.897167</td>\n",
       "      <td>0.545162</td>\n",
       "      <td>1.585516</td>\n",
       "      <td>0.735869</td>\n",
       "      <td>0.704421</td>\n",
       "      <td>0.770283</td>\n",
       "      <td>0.735881</td>\n",
       "      <td>0.606318</td>\n",
       "    </tr>\n",
       "    <tr>\n",
       "      <th>meanshift</th>\n",
       "      <td>0.431294</td>\n",
       "      <td>0.055447</td>\n",
       "      <td>0.316492</td>\n",
       "      <td>0.220588</td>\n",
       "      <td>0.140829</td>\n",
       "      <td>0.523817</td>\n",
       "      <td>0.221979</td>\n",
       "      <td>0.334901</td>\n",
       "    </tr>\n",
       "    <tr>\n",
       "      <th>optics</th>\n",
       "      <td>0.706852</td>\n",
       "      <td>0.043667</td>\n",
       "      <td>1.185696</td>\n",
       "      <td>0.258284</td>\n",
       "      <td>0.527600</td>\n",
       "      <td>0.233895</td>\n",
       "      <td>0.324107</td>\n",
       "      <td>0.210029</td>\n",
       "    </tr>\n",
       "  </tbody>\n",
       "</table>\n",
       "</div>"
      ],
      "text/plain": [
       "                       rand_score  adjusted_rand_score  mutual_info_score  \\\n",
       "kmeans_cl3               0.708050             0.254226           0.795680   \n",
       "kmeans_cl4               0.709355             0.255114           0.808168   \n",
       "kmeans_cl5               0.730718             0.266264           0.935778   \n",
       "kmeans_cl6               0.730508             0.266386           0.934724   \n",
       "kmeans_cl7               0.730752             0.266216           0.936046   \n",
       "kmeans_cl8               0.834176             0.422693           1.225118   \n",
       "kmeans_cl9               0.850152             0.455128           1.335423   \n",
       "kmeans_cl10              0.886307             0.529055           1.471950   \n",
       "kmeans_cl11              0.883545             0.512266           1.473095   \n",
       "kmeans_cl12              0.881742             0.475467           1.480105   \n",
       "minibatch_kmeans_cl3     0.708710             0.255465           0.799722   \n",
       "minibatch_kmeans_cl4     0.729527             0.265315           0.923872   \n",
       "minibatch_kmeans_cl5     0.833012             0.421096           1.211086   \n",
       "minibatch_kmeans_cl6     0.850126             0.456237           1.326151   \n",
       "minibatch_kmeans_cl7     0.871987             0.493000           1.365460   \n",
       "minibatch_kmeans_cl8     0.901425             0.577245           1.559029   \n",
       "minibatch_kmeans_cl9     0.906318             0.583806           1.622461   \n",
       "minibatch_kmeans_cl10    0.900111             0.564256           1.580561   \n",
       "minibatch_kmeans_cl11    0.897101             0.544973           1.581605   \n",
       "minibatch_kmeans_cl12    0.897167             0.545162           1.585516   \n",
       "meanshift                0.431294             0.055447           0.316492   \n",
       "optics                   0.706852             0.043667           1.185696   \n",
       "\n",
       "                       adjusted_mutual_info_score  homogeneity_score  \\\n",
       "kmeans_cl3                               0.480394           0.353508   \n",
       "kmeans_cl4                               0.485417           0.359057   \n",
       "kmeans_cl5                               0.532730           0.415752   \n",
       "kmeans_cl6                               0.532245           0.415284   \n",
       "kmeans_cl7                               0.532258           0.415871   \n",
       "kmeans_cl8                               0.640419           0.544301   \n",
       "kmeans_cl9                               0.678496           0.593308   \n",
       "kmeans_cl10                              0.711896           0.653965   \n",
       "kmeans_cl11                              0.705389           0.654474   \n",
       "kmeans_cl12                              0.687457           0.657588   \n",
       "minibatch_kmeans_cl3                     0.482775           0.355304   \n",
       "minibatch_kmeans_cl4                     0.528490           0.410462   \n",
       "minibatch_kmeans_cl5                     0.636570           0.538067   \n",
       "minibatch_kmeans_cl6                     0.676904           0.589189   \n",
       "minibatch_kmeans_cl7                     0.678011           0.606653   \n",
       "minibatch_kmeans_cl8                     0.740518           0.692653   \n",
       "minibatch_kmeans_cl9                     0.753026           0.720835   \n",
       "minibatch_kmeans_cl10                    0.742259           0.702219   \n",
       "minibatch_kmeans_cl11                    0.734725           0.702683   \n",
       "minibatch_kmeans_cl12                    0.735869           0.704421   \n",
       "meanshift                                0.220588           0.140829   \n",
       "optics                                   0.258284           0.527600   \n",
       "\n",
       "                       completeness_score  v_measure_score  \\\n",
       "kmeans_cl3                       0.749392         0.480400   \n",
       "kmeans_cl4                       0.749051         0.485425   \n",
       "kmeans_cl5                       0.741348         0.532740   \n",
       "kmeans_cl6                       0.740966         0.532257   \n",
       "kmeans_cl7                       0.739165         0.532273   \n",
       "kmeans_cl8                       0.777800         0.640431   \n",
       "kmeans_cl9                       0.792281         0.678508   \n",
       "kmeans_cl10                      0.781115         0.711907   \n",
       "kmeans_cl11                      0.764926         0.705402   \n",
       "kmeans_cl12                      0.720201         0.687472   \n",
       "minibatch_kmeans_cl3             0.752909         0.482780   \n",
       "minibatch_kmeans_cl4             0.741820         0.528498   \n",
       "minibatch_kmeans_cl5             0.779242         0.636577   \n",
       "minibatch_kmeans_cl6             0.795326         0.676912   \n",
       "minibatch_kmeans_cl7             0.768415         0.678019   \n",
       "minibatch_kmeans_cl8             0.795507         0.740526   \n",
       "minibatch_kmeans_cl9             0.788246         0.753035   \n",
       "minibatch_kmeans_cl10            0.787163         0.742269   \n",
       "minibatch_kmeans_cl11            0.769854         0.734736   \n",
       "minibatch_kmeans_cl12            0.770283         0.735881   \n",
       "meanshift                        0.523817         0.221979   \n",
       "optics                           0.233895         0.324107   \n",
       "\n",
       "                       fowlkes_mallows_score  \n",
       "kmeans_cl3                          0.447705  \n",
       "kmeans_cl4                          0.447842  \n",
       "kmeans_cl5                          0.445338  \n",
       "kmeans_cl6                          0.445650  \n",
       "kmeans_cl7                          0.445253  \n",
       "kmeans_cl8                          0.537406  \n",
       "kmeans_cl9                          0.557863  \n",
       "kmeans_cl10                         0.600828  \n",
       "kmeans_cl11                         0.584556  \n",
       "kmeans_cl12                         0.544989  \n",
       "minibatch_kmeans_cl3                0.448757  \n",
       "minibatch_kmeans_cl4                0.445104  \n",
       "minibatch_kmeans_cl5                0.536810  \n",
       "minibatch_kmeans_cl6                0.559257  \n",
       "minibatch_kmeans_cl7                0.576197  \n",
       "minibatch_kmeans_cl8                0.638163  \n",
       "minibatch_kmeans_cl9                0.639648  \n",
       "minibatch_kmeans_cl10               0.624659  \n",
       "minibatch_kmeans_cl11               0.606178  \n",
       "minibatch_kmeans_cl12               0.606318  \n",
       "meanshift                           0.334901  \n",
       "optics                              0.210029  "
      ]
     },
     "execution_count": 47,
     "metadata": {},
     "output_type": "execute_result"
    }
   ],
   "source": [
    "df_eval"
   ]
  }
 ],
 "metadata": {
  "kernelspec": {
   "display_name": "Python 3",
   "language": "python",
   "name": "python3"
  },
  "language_info": {
   "codemirror_mode": {
    "name": "ipython",
    "version": 3
   },
   "file_extension": ".py",
   "mimetype": "text/x-python",
   "name": "python",
   "nbconvert_exporter": "python",
   "pygments_lexer": "ipython3",
   "version": "3.7.7"
  }
 },
 "nbformat": 4,
 "nbformat_minor": 4
}
