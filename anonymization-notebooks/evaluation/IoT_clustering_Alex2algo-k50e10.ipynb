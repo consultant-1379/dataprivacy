{
 "cells": [
  {
   "cell_type": "code",
   "execution_count": 1,
   "metadata": {},
   "outputs": [
    {
     "name": "stdout",
     "output_type": "stream",
     "text": [
      "Requirement already satisfied: hdbscan in /opt/conda/lib/python3.7/site-packages (0.8.27)\n",
      "Requirement already satisfied: numpy>=1.16 in /opt/conda/lib/python3.7/site-packages (from hdbscan) (1.19.1)\n",
      "Requirement already satisfied: scipy>=1.0 in /opt/conda/lib/python3.7/site-packages (from hdbscan) (1.2.1)\n",
      "Requirement already satisfied: scikit-learn>=0.20 in /opt/conda/lib/python3.7/site-packages (from hdbscan) (0.24.1)\n",
      "Requirement already satisfied: cython>=0.27 in /opt/conda/lib/python3.7/site-packages (from hdbscan) (0.29.6)\n",
      "Requirement already satisfied: joblib>=1.0 in /opt/conda/lib/python3.7/site-packages (from hdbscan) (1.0.1)\n",
      "Requirement already satisfied: six in /opt/conda/lib/python3.7/site-packages (from hdbscan) (1.15.0)\n",
      "Requirement already satisfied: threadpoolctl>=2.0.0 in /opt/conda/lib/python3.7/site-packages (from scikit-learn>=0.20->hdbscan) (2.1.0)\n",
      "Requirement already satisfied: fa_kit in /opt/conda/lib/python3.7/site-packages (0.1.2)\n",
      "Requirement already satisfied: pandas in /opt/conda/lib/python3.7/site-packages (from fa_kit) (1.0.4)\n",
      "Requirement already satisfied: matplotlib in /opt/conda/lib/python3.7/site-packages (from fa_kit) (3.0.3)\n",
      "Requirement already satisfied: numpy in /opt/conda/lib/python3.7/site-packages (from fa_kit) (1.19.1)\n",
      "Requirement already satisfied: scipy in /opt/conda/lib/python3.7/site-packages (from fa_kit) (1.2.1)\n",
      "Requirement already satisfied: python-dateutil>=2.6.1 in /opt/conda/lib/python3.7/site-packages (from pandas->fa_kit) (2.8.1)\n",
      "Requirement already satisfied: pytz>=2017.2 in /opt/conda/lib/python3.7/site-packages (from pandas->fa_kit) (2020.1)\n",
      "Requirement already satisfied: cycler>=0.10 in /opt/conda/lib/python3.7/site-packages (from matplotlib->fa_kit) (0.10.0)\n",
      "Requirement already satisfied: kiwisolver>=1.0.1 in /opt/conda/lib/python3.7/site-packages (from matplotlib->fa_kit) (1.2.0)\n",
      "Requirement already satisfied: pyparsing!=2.0.4,!=2.1.2,!=2.1.6,>=2.0.1 in /opt/conda/lib/python3.7/site-packages (from matplotlib->fa_kit) (2.4.7)\n",
      "Requirement already satisfied: six>=1.5 in /opt/conda/lib/python3.7/site-packages (from python-dateutil>=2.6.1->pandas->fa_kit) (1.15.0)\n",
      "Requirement already satisfied: kneed in /opt/conda/lib/python3.7/site-packages (0.7.0)\n",
      "Requirement already satisfied: numpy>=1.14.2 in /opt/conda/lib/python3.7/site-packages (from kneed) (1.19.1)\n",
      "Requirement already satisfied: matplotlib in /opt/conda/lib/python3.7/site-packages (from kneed) (3.0.3)\n",
      "Requirement already satisfied: scipy in /opt/conda/lib/python3.7/site-packages (from kneed) (1.2.1)\n",
      "Requirement already satisfied: cycler>=0.10 in /opt/conda/lib/python3.7/site-packages (from matplotlib->kneed) (0.10.0)\n",
      "Requirement already satisfied: kiwisolver>=1.0.1 in /opt/conda/lib/python3.7/site-packages (from matplotlib->kneed) (1.2.0)\n",
      "Requirement already satisfied: pyparsing!=2.0.4,!=2.1.2,!=2.1.6,>=2.0.1 in /opt/conda/lib/python3.7/site-packages (from matplotlib->kneed) (2.4.7)\n",
      "Requirement already satisfied: python-dateutil>=2.1 in /opt/conda/lib/python3.7/site-packages (from matplotlib->kneed) (2.8.1)\n",
      "Requirement already satisfied: six in /opt/conda/lib/python3.7/site-packages (from cycler>=0.10->matplotlib->kneed) (1.15.0)\n"
     ]
    }
   ],
   "source": [
    "import pandas as pd\n",
    "import numpy as np\n",
    "import matplotlib as plt\n",
    "import matplotlib.pyplot as plt\n",
    "import matplotlib.colors as mcolors\n",
    "#!pip install scikit-learn==0.24.0\n",
    "\n",
    "from sklearn.decomposition import PCA\n",
    "from sklearn.preprocessing import StandardScaler\n",
    "from sklearn.model_selection import train_test_split\n",
    "from sklearn.decomposition import IncrementalPCA\n",
    "from sklearn.linear_model import LogisticRegression\n",
    "\n",
    "from sklearn.cluster import k_means\n",
    "from sklearn.cluster import KMeans\n",
    "from sklearn.cluster import MiniBatchKMeans\n",
    "from sklearn.cluster import AgglomerativeClustering\n",
    "from sklearn.cluster import MeanShift\n",
    "from sklearn.cluster import OPTICS\n",
    "from sklearn.cluster import DBSCAN\n",
    "!pip install hdbscan\n",
    "!pip install fa_kit\n",
    "!pip install kneed\n",
    "from fa_kit.rotation import VarimaxRotatorPython\n",
    "\n",
    "from sklearn import metrics\n",
    "import os\n",
    "\n",
    "from sklearn.metrics import mean_squared_error, r2_score\n",
    "from sklearn import datasets, linear_model"
   ]
  },
  {
   "cell_type": "code",
   "execution_count": 2,
   "metadata": {},
   "outputs": [],
   "source": [
    "def read_file(dfs):\n",
    "    df = pd.DataFrame()\n",
    "    path = '/home/jovyan/work/Toni/detection_of_IoT_botnet_attacks_N_BaIoT/anonymized/alex2/'+folder+'/'\n",
    "    df_new = pd.read_csv(path+'benign_traffic.csv')\n",
    "    df_new['label'] = 'benign_traffic'\n",
    "    df = pd.concat([df,df_new], ignore_index=True)\n",
    "    \n",
    "    directory = os.fsencode(path+'gafgyt_attacks')\n",
    "    for file in os.listdir(directory):\n",
    "        filename = os.fsdecode(file)\n",
    "        if filename.endswith(\".csv\"): \n",
    "            df_new = pd.read_csv(path+'gafgyt_attacks'+'/'+filename)\n",
    "            filename=filename[:-4] \n",
    "            df_new['label'] = 'gafgyt_'+filename\n",
    "            df = pd.concat([df,df_new], ignore_index=True)\n",
    "    directory = os.fsencode(path+'mirai_attacks')\n",
    "    for file in os.listdir(directory):\n",
    "        filename = os.fsdecode(file)\n",
    "        if filename.endswith(\".csv\"): \n",
    "            df_new = pd.read_csv(path+'mirai_attacks'+'/'+filename)\n",
    "            filename=filename[:-4] \n",
    "            df_new['label'] = 'mirai_'+filename\n",
    "            df = pd.concat([df,df_new], ignore_index=True)\n",
    "    return df"
   ]
  },
  {
   "cell_type": "code",
   "execution_count": 3,
   "metadata": {},
   "outputs": [],
   "source": [
    "folder = 'baby_k50_e10_lof'\n",
    "df = read_file(folder)\n",
    "df = df.dropna().reset_index(drop=True)"
   ]
  },
  {
   "cell_type": "code",
   "execution_count": 4,
   "metadata": {},
   "outputs": [],
   "source": [
    "def pca_func(rate, data):    \n",
    "    df_wo_label = data.drop(columns = ['label'])\n",
    "    scaler = StandardScaler()\n",
    "    data_scaled = scaler.fit_transform(df_wo_label)\n",
    "    pca = PCA(n_components=rate, random_state=0)\n",
    "    pca_comp = pca.fit(data_scaled).components_\n",
    "    return pca_comp, data_scaled"
   ]
  },
  {
   "cell_type": "code",
   "execution_count": 5,
   "metadata": {},
   "outputs": [],
   "source": [
    "# LEts transform our original dataset to lower dimensional\n",
    "def decrease_dim(components, data_scaled):\n",
    "    varimax = VarimaxRotatorPython()\n",
    "    rotated_weights = varimax.rotate(components.T)\n",
    "    df_lowdim = pd.DataFrame(np.dot(data_scaled, rotated_weights))\n",
    "    #df_lowdim[\"label\"] = df[\"label\"]\n",
    "    rotated_data = np.dot(data_scaled, rotated_weights)\n",
    "    return df_lowdim, rotated_data"
   ]
  },
  {
   "cell_type": "code",
   "execution_count": 6,
   "metadata": {},
   "outputs": [],
   "source": [
    "import scipy.special\n",
    "\n",
    "def adj_rand(data):\n",
    "    tab = pd.crosstab(data['label'], data['cluster_label'])\n",
    "    df_tab = pd.DataFrame(tab)\n",
    "    a = list(df_tab.sum(axis=1))\n",
    "    b = list(df_tab.sum(axis=0))\n",
    "    n = df_tab.values.tolist()\n",
    "    sum_n = 0\n",
    "    for i in range(len(n)):\n",
    "        for j in range(len(n[0])):\n",
    "            sum_n += scipy.special.comb(n[i][j],2)\n",
    "    sum_a = 0\n",
    "    for k in range(len(a)):\n",
    "        sum_a += scipy.special.comb(a[k],2)\n",
    "    sum_b = 0\n",
    "    for l in range(len(b)):\n",
    "        sum_b += scipy.special.comb(b[l],2)\n",
    "    \n",
    "    ari = (sum_n - sum_a*sum_b/scipy.special.comb(sum(a),2))/(0.5*(sum_a+sum_b)-sum_a*sum_b/scipy.special.comb(sum(a),2))\n",
    "    return(ari)"
   ]
  },
  {
   "cell_type": "code",
   "execution_count": 7,
   "metadata": {},
   "outputs": [],
   "source": [
    "def evall(df_cl):\n",
    "    sc = []\n",
    "    sc.append(metrics.rand_score(df_cl['label'], df_cl['cluster_label']))\n",
    "    sc.append(adj_rand(df_cl))\n",
    "    sc.append(metrics.mutual_info_score(df_cl['label'], df_cl['cluster_label']))\n",
    "    sc.append(metrics.adjusted_mutual_info_score(df_cl['label'], df_cl['cluster_label']))\n",
    "    sc.append(metrics.homogeneity_score(df_cl['label'], df_cl['cluster_label']))\n",
    "    sc.append(metrics.completeness_score(df_cl['label'], df_cl['cluster_label']))\n",
    "    sc.append(metrics.v_measure_score(df_cl['label'], df_cl['cluster_label']))\n",
    "    sc.append(metrics.fowlkes_mallows_score(df_cl['label'], df_cl['cluster_label']))\n",
    "    return sc"
   ]
  },
  {
   "cell_type": "code",
   "execution_count": 8,
   "metadata": {},
   "outputs": [],
   "source": [
    "def L_method_optimum(tofit, minima=0):\n",
    "    maxima = len(tofit)\n",
    "    # minima=0\n",
    "    regr = linear_model.LinearRegression()\n",
    "    x_axis=np.arange(minima,maxima)\n",
    "    mse=np.zeros(maxima-minima)\n",
    "    xo =np.zeros(maxima-minima)\n",
    "    for i in range(2,maxima-minima-2):\n",
    "        #print(i)\n",
    "        guess11=regr.fit(x_axis[i:].reshape(-1, 1),tofit[i:].reshape(-1, 1)).predict(x_axis[i:].reshape(-1, 1))\n",
    "        guess1= regr.fit(x_axis[i:].reshape(-1, 1),tofit[i:].reshape(-1, 1))\n",
    "        a= guess1.coef_\n",
    "        b= guess1.intercept_\n",
    "        guess22=regr.fit(x_axis[:i].reshape(-1, 1),tofit[:i].reshape(-1, 1)).predict(x_axis[:i].reshape(-1, 1))\n",
    "        guess2 =regr.fit(x_axis[:i].reshape(-1, 1),tofit[:i].reshape(-1, 1))\n",
    "        c= guess2.coef_\n",
    "        d= guess2.intercept_\n",
    "        mse[i]= (maxima-minima-i+1)*mean_squared_error(tofit[i:], guess11 )+i*mean_squared_error(tofit[:i], guess22)\n",
    "        xo[i]=(d-b)/(a-c)\n",
    "        min_place=np.argmin(mse[2:-2])+2+minima\n",
    "    #labels = hierarchy.fcluster(linkage, minhely, 'maxclust')\n",
    "    return (min_place) #, distances[min_place])"
   ]
  },
  {
   "cell_type": "code",
   "execution_count": 9,
   "metadata": {},
   "outputs": [],
   "source": [
    "df_eval = pd.DataFrame(columns = ['rand_score', 'adjusted_rand_score', 'mutual_info_score', 'adjusted_mutual_info_score', \n",
    "                                  'homogeneity_score', 'completeness_score', 'v_measure_score', 'fowlkes_mallows_score'])"
   ]
  },
  {
   "cell_type": "markdown",
   "metadata": {},
   "source": [
    "# K-MEANS"
   ]
  },
  {
   "cell_type": "code",
   "execution_count": 10,
   "metadata": {},
   "outputs": [],
   "source": [
    "def kmeans(low_data, num_cl):\n",
    "    low_data_2 = low_data.copy()\n",
    "    kmeans = KMeans(init=\"random\",n_clusters=num_cl,n_init=10,max_iter=200,random_state=42)\n",
    "    kmeans.fit(low_data_2)\n",
    "    low_data_2[\"cluster_label\"] = kmeans.labels_\n",
    "    low_data_2[\"label\"] = df[\"label\"]\n",
    "    return low_data_2"
   ]
  },
  {
   "cell_type": "code",
   "execution_count": 11,
   "metadata": {},
   "outputs": [],
   "source": [
    "comp, df_scaled = pca_func(0.7, df)\n",
    "df_low, np_low = decrease_dim(comp, df_scaled)"
   ]
  },
  {
   "cell_type": "code",
   "execution_count": 12,
   "metadata": {},
   "outputs": [
    {
     "name": "stdout",
     "output_type": "stream",
     "text": [
      "1\n",
      "2\n",
      "3\n",
      "4\n",
      "5\n",
      "6\n",
      "7\n",
      "8\n",
      "9\n",
      "10\n",
      "11\n",
      "12\n",
      "13\n",
      "14\n",
      "15\n",
      "16\n",
      "17\n",
      "18\n",
      "19\n",
      "20\n",
      "21\n",
      "22\n",
      "23\n",
      "24\n",
      "25\n",
      "26\n",
      "27\n",
      "28\n",
      "29\n",
      "30\n",
      "31\n",
      "32\n",
      "33\n",
      "34\n",
      "35\n",
      "36\n",
      "37\n",
      "38\n",
      "39\n",
      "40\n",
      "41\n",
      "42\n",
      "43\n",
      "44\n",
      "45\n",
      "46\n",
      "47\n",
      "48\n",
      "49\n",
      "50\n",
      "51\n",
      "52\n",
      "53\n",
      "54\n",
      "55\n",
      "56\n",
      "57\n",
      "58\n",
      "59\n",
      "60\n",
      "61\n",
      "62\n",
      "63\n",
      "64\n",
      "65\n",
      "66\n",
      "67\n",
      "68\n",
      "69\n",
      "70\n",
      "71\n",
      "72\n",
      "73\n",
      "74\n",
      "75\n",
      "76\n",
      "77\n",
      "78\n",
      "79\n",
      "80\n",
      "81\n",
      "82\n",
      "83\n",
      "84\n",
      "85\n",
      "86\n",
      "87\n",
      "88\n",
      "89\n",
      "90\n",
      "91\n",
      "92\n",
      "93\n",
      "94\n",
      "95\n",
      "96\n",
      "97\n",
      "98\n",
      "99\n"
     ]
    }
   ],
   "source": [
    "kmeans_kwargs = {\"init\": \"random\",\"n_init\": 10, \"max_iter\": 200,\"random_state\": 42}\n",
    "\n",
    "sse = []\n",
    "for k in range(1, 100):\n",
    "    print(k)\n",
    "    kmeanss =  MiniBatchKMeans(n_clusters=k, **kmeans_kwargs)\n",
    "    kmeanss.fit(df_low)\n",
    "    sse.append(kmeanss.inertia_)"
   ]
  },
  {
   "cell_type": "code",
   "execution_count": 13,
   "metadata": {},
   "outputs": [
    {
     "data": {
      "image/png": "[encoded data removed]",
      "text/plain": [
       "<Figure size 432x288 with 1 Axes>"
      ]
     },
     "metadata": {},
     "output_type": "display_data"
    }
   ],
   "source": [
    "plt.style.use(\"fivethirtyeight\")\n",
    "plt.plot(range(1, 100), sse)\n",
    "plt.xticks(range(1, 100))\n",
    "plt.xlabel(\"Number of Clusters\")\n",
    "plt.ylabel(\"SSE\")\n",
    "plt.title('k-means')\n",
    "plt.show()"
   ]
  },
  {
   "cell_type": "code",
   "execution_count": 14,
   "metadata": {},
   "outputs": [
    {
     "data": {
      "image/png": "[encoded data removed]",
      "text/plain": [
       "<Figure size 432x288 with 1 Axes>"
      ]
     },
     "metadata": {},
     "output_type": "display_data"
    }
   ],
   "source": [
    "plt.style.use(\"fivethirtyeight\")\n",
    "plt.plot(range(1, 15), sse[:14])\n",
    "plt.xticks(range(1, 15))\n",
    "plt.xlabel(\"Number of Clusters\")\n",
    "plt.ylabel(\"SSE\")\n",
    "plt.title('k-means')\n",
    "plt.show()"
   ]
  },
  {
   "cell_type": "code",
   "execution_count": 15,
   "metadata": {},
   "outputs": [
    {
     "data": {
      "text/plain": [
       "4"
      ]
     },
     "execution_count": 15,
     "metadata": {},
     "output_type": "execute_result"
    }
   ],
   "source": [
    "sse = np.array(sse)\n",
    "L_method_optimum(sse)"
   ]
  },
  {
   "cell_type": "code",
   "execution_count": 16,
   "metadata": {},
   "outputs": [
    {
     "name": "stdout",
     "output_type": "stream",
     "text": [
      "3\n",
      "4\n",
      "5\n",
      "6\n",
      "7\n",
      "8\n",
      "9\n",
      "10\n",
      "11\n",
      "12\n"
     ]
    }
   ],
   "source": [
    "for k in range(3,13):\n",
    "    print(k)\n",
    "    df_kmeans = kmeans(df_low, k)\n",
    "    df_eval.loc['kmeans_cl'+str(k)]=evall(df_kmeans)"
   ]
  },
  {
   "cell_type": "code",
   "execution_count": 17,
   "metadata": {},
   "outputs": [],
   "source": [
    "df_eval.to_csv('eval_baby_k50_e10_lof')"
   ]
  },
  {
   "cell_type": "markdown",
   "metadata": {},
   "source": [
    "# MINIBATCH KMEANS"
   ]
  },
  {
   "cell_type": "code",
   "execution_count": 18,
   "metadata": {},
   "outputs": [],
   "source": [
    "def minibatch(low_data, num_cl):\n",
    "    low_data_2 = low_data.copy()\n",
    "    mini_kmeans = MiniBatchKMeans(init=\"random\",n_clusters=num_cl,n_init=10,max_iter=200,random_state=42)\n",
    "    mini_kmeans.fit(low_data_2)\n",
    "    low_data_2[\"cluster_label\"] = mini_kmeans.labels_\n",
    "    low_data_2[\"label\"] = df[\"label\"]\n",
    "    return low_data_2"
   ]
  },
  {
   "cell_type": "code",
   "execution_count": 19,
   "metadata": {},
   "outputs": [
    {
     "name": "stdout",
     "output_type": "stream",
     "text": [
      "1\n",
      "2\n",
      "3\n",
      "4\n",
      "5\n",
      "6\n",
      "7\n",
      "8\n",
      "9\n",
      "10\n",
      "11\n",
      "12\n",
      "13\n",
      "14\n",
      "15\n",
      "16\n",
      "17\n",
      "18\n",
      "19\n",
      "20\n",
      "21\n",
      "22\n",
      "23\n",
      "24\n",
      "25\n",
      "26\n",
      "27\n",
      "28\n",
      "29\n",
      "30\n",
      "31\n",
      "32\n",
      "33\n",
      "34\n",
      "35\n",
      "36\n",
      "37\n",
      "38\n",
      "39\n",
      "40\n",
      "41\n",
      "42\n",
      "43\n",
      "44\n",
      "45\n",
      "46\n",
      "47\n",
      "48\n",
      "49\n",
      "50\n",
      "51\n",
      "52\n",
      "53\n",
      "54\n",
      "55\n",
      "56\n",
      "57\n",
      "58\n",
      "59\n",
      "60\n",
      "61\n",
      "62\n",
      "63\n",
      "64\n",
      "65\n",
      "66\n",
      "67\n",
      "68\n",
      "69\n",
      "70\n",
      "71\n",
      "72\n",
      "73\n",
      "74\n",
      "75\n",
      "76\n",
      "77\n",
      "78\n",
      "79\n",
      "80\n",
      "81\n",
      "82\n",
      "83\n",
      "84\n",
      "85\n",
      "86\n",
      "87\n",
      "88\n",
      "89\n",
      "90\n",
      "91\n",
      "92\n",
      "93\n",
      "94\n",
      "95\n",
      "96\n",
      "97\n",
      "98\n",
      "99\n"
     ]
    }
   ],
   "source": [
    "comp, df_scaled = pca_func(0.7, df)\n",
    "df_low, np_low = decrease_dim(comp, df_scaled)\n",
    "\n",
    "kmeans_kwargs = {\"init\": \"random\",\"n_init\": 10, \"max_iter\": 200,\"random_state\": 42}\n",
    "\n",
    "# A list holds the SSE values for each k\n",
    "sse = []\n",
    "for k in range(1, 100):\n",
    "    print(k)\n",
    "    kmeanss =  MiniBatchKMeans(n_clusters=k, **kmeans_kwargs)\n",
    "    kmeanss.fit(df_low)\n",
    "    sse.append(kmeanss.inertia_)"
   ]
  },
  {
   "cell_type": "code",
   "execution_count": 20,
   "metadata": {},
   "outputs": [
    {
     "data": {
      "image/png": "[encoded data removed]",
      "text/plain": [
       "<Figure size 432x288 with 1 Axes>"
      ]
     },
     "metadata": {},
     "output_type": "display_data"
    }
   ],
   "source": [
    "plt.style.use(\"fivethirtyeight\")\n",
    "plt.plot(range(1, 100), sse)\n",
    "plt.xticks(range(1, 100))\n",
    "plt.xlabel(\"Number of Clusters\")\n",
    "plt.ylabel(\"SSE\")\n",
    "plt.title('minibatch k-means')\n",
    "plt.show()"
   ]
  },
  {
   "cell_type": "code",
   "execution_count": 21,
   "metadata": {},
   "outputs": [
    {
     "data": {
      "image/png": "[encoded data removed]",
      "text/plain": [
       "<Figure size 432x288 with 1 Axes>"
      ]
     },
     "metadata": {},
     "output_type": "display_data"
    }
   ],
   "source": [
    "plt.style.use(\"fivethirtyeight\")\n",
    "plt.plot(range(1, 15), sse[:14])\n",
    "plt.xticks(range(1, 15))\n",
    "plt.xlabel(\"Number of Clusters\")\n",
    "plt.ylabel(\"SSE\")\n",
    "plt.title('k-means')\n",
    "plt.show()"
   ]
  },
  {
   "cell_type": "code",
   "execution_count": 22,
   "metadata": {},
   "outputs": [
    {
     "data": {
      "text/plain": [
       "4"
      ]
     },
     "execution_count": 22,
     "metadata": {},
     "output_type": "execute_result"
    }
   ],
   "source": [
    "sse = np.array(sse)\n",
    "L_method_optimum(sse)"
   ]
  },
  {
   "cell_type": "code",
   "execution_count": 23,
   "metadata": {},
   "outputs": [
    {
     "name": "stdout",
     "output_type": "stream",
     "text": [
      "3\n",
      "4\n",
      "5\n",
      "6\n",
      "7\n",
      "8\n",
      "9\n",
      "10\n",
      "11\n",
      "12\n"
     ]
    }
   ],
   "source": [
    "for k in range(3,13):\n",
    "    print(k)\n",
    "    df_kmeans = minibatch(df_low, k)\n",
    "    df_eval.loc['minibatch_kmeans_cl'+str(k)]=evall(df_kmeans)"
   ]
  },
  {
   "cell_type": "code",
   "execution_count": 24,
   "metadata": {},
   "outputs": [],
   "source": [
    "df_eval.to_csv('eval_baby_k50_e10_lof')"
   ]
  },
  {
   "cell_type": "markdown",
   "metadata": {},
   "source": [
    "# HIERARCHICAL"
   ]
  },
  {
   "cell_type": "code",
   "execution_count": 8,
   "metadata": {},
   "outputs": [],
   "source": [
    "def hierarch(low_data, num_clust, link):\n",
    "    low_data_2 = low_data.copy()\n",
    "    hier = AgglomerativeClustering(n_clusters=num_clust, linkage=link).fit(low_data_2)\n",
    "    low_data_2[\"cluster_label\"] = hier.labels_\n",
    "    low_data_2[\"label\"] = reduced_label\n",
    "    return low_data_2"
   ]
  },
  {
   "cell_type": "code",
   "execution_count": 9,
   "metadata": {},
   "outputs": [
    {
     "name": "stdout",
     "output_type": "stream",
     "text": [
      "Requirement already up-to-date: scikit-learn in /opt/conda/lib/python3.7/site-packages (0.24.1)\n",
      "Requirement already satisfied, skipping upgrade: joblib>=0.11 in /opt/conda/lib/python3.7/site-packages (from scikit-learn) (1.0.1)\n",
      "Requirement already satisfied, skipping upgrade: threadpoolctl>=2.0.0 in /opt/conda/lib/python3.7/site-packages (from scikit-learn) (2.1.0)\n",
      "Requirement already satisfied, skipping upgrade: scipy>=0.19.1 in /opt/conda/lib/python3.7/site-packages (from scikit-learn) (1.2.1)\n",
      "Requirement already satisfied, skipping upgrade: numpy>=1.13.3 in /opt/conda/lib/python3.7/site-packages (from scikit-learn) (1.19.1)\n"
     ]
    }
   ],
   "source": [
    "!pip install -U scikit-learn"
   ]
  },
  {
   "cell_type": "code",
   "execution_count": 11,
   "metadata": {},
   "outputs": [],
   "source": [
    "df_reduced = df.sample(n=100000)\n",
    "reduced_label = df_reduced['label'].reset_index(drop=True)\n",
    "comp, df_scaled = pca_func(0.7, df_reduced)\n",
    "df_low, np_low = decrease_dim(comp, df_scaled)"
   ]
  },
  {
   "cell_type": "code",
   "execution_count": null,
   "metadata": {},
   "outputs": [
    {
     "name": "stdout",
     "output_type": "stream",
     "text": [
      "5\n"
     ]
    }
   ],
   "source": [
    "for k in range(5, 6):\n",
    "    print(k)\n",
    "    df_hierarch = hierarch(df_low, k, 'ward')\n",
    "    print(evall(df_hierarch))"
   ]
  },
  {
   "cell_type": "markdown",
   "metadata": {},
   "source": [
    "# MEAN-SHIFT"
   ]
  },
  {
   "cell_type": "code",
   "execution_count": 28,
   "metadata": {},
   "outputs": [],
   "source": [
    "def mean_shift(low_data):\n",
    "    low_data_2 = low_data.copy()\n",
    "    mean_sh = MeanShift().fit(low_data_2)\n",
    "    low_data_2[\"cluster_label\"] = mean_sh.labels_\n",
    "    low_data_2[\"label\"] = reduced_label\n",
    "    return low_data_2"
   ]
  },
  {
   "cell_type": "code",
   "execution_count": 29,
   "metadata": {
    "scrolled": true
   },
   "outputs": [],
   "source": [
    "df_meanshift = mean_shift(df_low)\n",
    "df_eval.loc['meanshift']=evall(df_meanshift)\n",
    "df_eval.to_csv('eval_baby_k50_e10_lof')"
   ]
  },
  {
   "cell_type": "markdown",
   "metadata": {},
   "source": [
    "# DBSCAN"
   ]
  },
  {
   "cell_type": "code",
   "execution_count": 30,
   "metadata": {},
   "outputs": [],
   "source": [
    "def dbscan(low_data, ep, min_samp):\n",
    "    low_data_2 = low_data.copy()\n",
    "    dbsc = DBSCAN(eps=ep, min_samples=min_samp).fit(low_data_2)\n",
    "    low_data_2[\"cluster_label\"] = dbsc.labels_\n",
    "    low_data_2[\"label\"] = reduced_label\n",
    "    return low_data_2"
   ]
  },
  {
   "cell_type": "code",
   "execution_count": 31,
   "metadata": {},
   "outputs": [
    {
     "data": {
      "text/plain": [
       "Text(0, 0.5, 'Distance')"
      ]
     },
     "execution_count": 31,
     "metadata": {},
     "output_type": "execute_result"
    },
    {
     "data": {
      "image/png": "[encoded data removed]",
      "text/plain": [
       "<Figure size 360x360 with 1 Axes>"
      ]
     },
     "metadata": {},
     "output_type": "display_data"
    }
   ],
   "source": [
    "#estimating epsilon\n",
    "\n",
    "from sklearn.neighbors import NearestNeighbors\n",
    "from kneed import KneeLocator\n",
    "\n",
    "nearest_neighbors = NearestNeighbors(n_neighbors=11)\n",
    "neighbors = nearest_neighbors.fit(np_low)\n",
    "distances, indices = neighbors.kneighbors(np_low)\n",
    "\n",
    "distances = np.sort(distances[:,10], axis=0)\n",
    "\n",
    "i = np.arange(len(distances))\n",
    "knee = KneeLocator(i, distances, S=1, curve='convex', direction='increasing', interp_method='polynomial')\n",
    "\n",
    "fig = plt.figure(figsize=(5, 5))\n",
    "plt.plot(distances)\n",
    "plt.xlabel(\"Points\")\n",
    "plt.ylabel(\"Distance\")"
   ]
  },
  {
   "cell_type": "code",
   "execution_count": 32,
   "metadata": {},
   "outputs": [
    {
     "data": {
      "text/plain": [
       "Text(0, 0.5, 'Distance')"
      ]
     },
     "execution_count": 32,
     "metadata": {},
     "output_type": "execute_result"
    },
    {
     "data": {
      "image/png": "[encoded data removed]",
      "text/plain": [
       "<Figure size 360x360 with 1 Axes>"
      ]
     },
     "metadata": {},
     "output_type": "display_data"
    }
   ],
   "source": [
    "fig = plt.figure(figsize=(5, 5))\n",
    "plt.plot(distances[99000:100000])\n",
    "plt.xlabel(\"Points\")\n",
    "plt.ylabel(\"Distance\")"
   ]
  },
  {
   "cell_type": "code",
   "execution_count": 33,
   "metadata": {},
   "outputs": [
    {
     "name": "stdout",
     "output_type": "stream",
     "text": [
      "0.18\n",
      "0.19\n",
      "0.2\n",
      "0.21\n",
      "0.22\n",
      "0.23\n",
      "0.24\n"
     ]
    }
   ],
   "source": [
    "eval_dbscan = []\n",
    "for j in [0.18,0.19,0.2,0.21,0.22, 0.23, 0.24]:\n",
    "    print(j)\n",
    "    df_dbscan = dbscan(df_low, j, 10)\n",
    "    metrics_dbscan = evall(df_dbscan)\n",
    "    eval_dbscan.append(metrics_dbscan)"
   ]
  },
  {
   "cell_type": "code",
   "execution_count": 34,
   "metadata": {
    "scrolled": false
   },
   "outputs": [
    {
     "data": {
      "text/plain": [
       "[[0.9138703163031631,\n",
       "  0.5931689650458355,\n",
       "  1.7711982408446059,\n",
       "  0.7800883505986387,\n",
       "  0.7872164632067158,\n",
       "  0.7735052329030548,\n",
       "  0.7803006202010312,\n",
       "  0.6422595056287912],\n",
       " [0.9142722861228613,\n",
       "  0.5960090200397037,\n",
       "  1.7727392879086568,\n",
       "  0.7824833902870094,\n",
       "  0.7879013880171756,\n",
       "  0.7775421966958067,\n",
       "  0.7826875168176342,\n",
       "  0.6449230618555726],\n",
       " [0.914500651406514,\n",
       "  0.5973822751988015,\n",
       "  1.7757967130883612,\n",
       "  0.7837777780279155,\n",
       "  0.7892602734208435,\n",
       "  0.7787815503430003,\n",
       "  0.7839858989008656,\n",
       "  0.6461839435541029],\n",
       " [0.90320039100391,\n",
       "  0.562893606181264,\n",
       "  1.6722931051429313,\n",
       "  0.7567047870429936,\n",
       "  0.7432576621394086,\n",
       "  0.7710844764703307,\n",
       "  0.7569154033044113,\n",
       "  0.6195845424125421],\n",
       " [0.9032978199781998,\n",
       "  0.5636954879282363,\n",
       "  1.6741629877840747,\n",
       "  0.7579252712649518,\n",
       "  0.7440887392969099,\n",
       "  0.7727694151868678,\n",
       "  0.7581579308703333,\n",
       "  0.6203719489113703],\n",
       " [0.9034680468804688,\n",
       "  0.5647476889472494,\n",
       "  1.675778109056809,\n",
       "  0.7588324914827774,\n",
       "  0.74480658669911,\n",
       "  0.7738763546026021,\n",
       "  0.7590632521422452,\n",
       "  0.6213608311860717],\n",
       " [0.9035557367573676,\n",
       "  0.5655227424659551,\n",
       "  1.6783580799629867,\n",
       "  0.7603337017081857,\n",
       "  0.745953265554758,\n",
       "  0.7757715535147739,\n",
       "  0.7605702639754228,\n",
       "  0.6221298740407586]]"
      ]
     },
     "execution_count": 34,
     "metadata": {},
     "output_type": "execute_result"
    }
   ],
   "source": [
    "eval_dbscan"
   ]
  },
  {
   "cell_type": "code",
   "execution_count": 44,
   "metadata": {},
   "outputs": [],
   "source": [
    "eval_dbscan = []\n",
    "for i in [3,4,5,6]:\n",
    "    df_dbscan = dbscan(df_low, 0.20, i)\n",
    "    metrics_dbscan = evall(df_dbscan)\n",
    "    eval_dbscan.append(metrics_dbscan)"
   ]
  },
  {
   "cell_type": "code",
   "execution_count": 45,
   "metadata": {},
   "outputs": [
    {
     "data": {
      "text/plain": [
       "[[0.9153576099760997,\n",
       "  0.6032105267827701,\n",
       "  1.7923224868415382,\n",
       "  0.787267949668936,\n",
       "  0.7966052226567499,\n",
       "  0.7795249300244759,\n",
       "  0.7879725280203146,\n",
       "  0.6516392456648071],\n",
       " [0.9153311849118492,\n",
       "  0.6029348164082518,\n",
       "  1.79009957102899,\n",
       "  0.7880396320411639,\n",
       "  0.7956172384302491,\n",
       "  0.781606364383237,\n",
       "  0.7885495703473006,\n",
       "  0.6513683928561664],\n",
       " [0.9151441030410304,\n",
       "  0.601801486915983,\n",
       "  1.7878788515041804,\n",
       "  0.7881119620970491,\n",
       "  0.7946302303530159,\n",
       "  0.7824595215556979,\n",
       "  0.7884979140891714,\n",
       "  0.6503242814994332],\n",
       " [0.914959439394394,\n",
       "  0.6002976416075907,\n",
       "  1.7871814597460112,\n",
       "  0.7869781243575793,\n",
       "  0.7943202716704274,\n",
       "  0.7805014000596401,\n",
       "  0.787350206393131,\n",
       "  0.6488847121421101]]"
      ]
     },
     "execution_count": 45,
     "metadata": {},
     "output_type": "execute_result"
    }
   ],
   "source": [
    "eval_dbscan"
   ]
  },
  {
   "cell_type": "code",
   "execution_count": 2,
   "metadata": {},
   "outputs": [
    {
     "ename": "NameError",
     "evalue": "name 'dbscan' is not defined",
     "output_type": "error",
     "traceback": [
      "\u001b[0;31m---------------------------------------------------------------------------\u001b[0m",
      "\u001b[0;31mNameError\u001b[0m                                 Traceback (most recent call last)",
      "\u001b[0;32m<ipython-input-2-b4314c402e6c>\u001b[0m in \u001b[0;36m<module>\u001b[0;34m\u001b[0m\n\u001b[0;32m----> 1\u001b[0;31m \u001b[0mdf_dbscan\u001b[0m \u001b[0;34m=\u001b[0m \u001b[0mdbscan\u001b[0m\u001b[0;34m(\u001b[0m\u001b[0mdf_low\u001b[0m\u001b[0;34m,\u001b[0m \u001b[0;36m0.20\u001b[0m\u001b[0;34m,\u001b[0m \u001b[0;36m10\u001b[0m\u001b[0;34m)\u001b[0m\u001b[0;34m\u001b[0m\u001b[0;34m\u001b[0m\u001b[0m\n\u001b[0m",
      "\u001b[0;31mNameError\u001b[0m: name 'dbscan' is not defined"
     ]
    }
   ],
   "source": [
    "df_dbscan = dbscan(df_low, 0.20, 10)"
   ]
  },
  {
   "cell_type": "code",
   "execution_count": 38,
   "metadata": {},
   "outputs": [],
   "source": [
    "#evall(df_dbscan)"
   ]
  },
  {
   "cell_type": "code",
   "execution_count": 47,
   "metadata": {},
   "outputs": [],
   "source": [
    "df_eval.loc['dbscan(0.2,4)']=evall(df_dbscan)\n",
    "df_eval.to_csv('eval_baby_k50_e10_lof')"
   ]
  },
  {
   "cell_type": "markdown",
   "metadata": {},
   "source": [
    "# OPTICS"
   ]
  },
  {
   "cell_type": "code",
   "execution_count": 40,
   "metadata": {},
   "outputs": [],
   "source": [
    "def optics(low_data):\n",
    "    low_data_2 = low_data.copy()\n",
    "    opti = OPTICS().fit(low_data_2)\n",
    "    low_data_2[\"cluster_label\"] = opti.labels_\n",
    "    low_data_2[\"label\"] = reduced_label\n",
    "    return low_data_2"
   ]
  },
  {
   "cell_type": "code",
   "execution_count": 41,
   "metadata": {},
   "outputs": [],
   "source": [
    "df_optics = optics(df_low)\n",
    "df_eval.loc['optics']=evall(df_optics)\n",
    "df_eval.to_csv('eval_baby_k50_e10_lof')"
   ]
  },
  {
   "cell_type": "code",
   "execution_count": 42,
   "metadata": {},
   "outputs": [
    {
     "data": {
      "text/html": [
       "<div>\n",
       "<style scoped>\n",
       "    .dataframe tbody tr th:only-of-type {\n",
       "        vertical-align: middle;\n",
       "    }\n",
       "\n",
       "    .dataframe tbody tr th {\n",
       "        vertical-align: top;\n",
       "    }\n",
       "\n",
       "    .dataframe thead th {\n",
       "        text-align: right;\n",
       "    }\n",
       "</style>\n",
       "<table border=\"1\" class=\"dataframe\">\n",
       "  <thead>\n",
       "    <tr style=\"text-align: right;\">\n",
       "      <th></th>\n",
       "      <th>rand_score</th>\n",
       "      <th>adjusted_rand_score</th>\n",
       "      <th>mutual_info_score</th>\n",
       "      <th>adjusted_mutual_info_score</th>\n",
       "      <th>homogeneity_score</th>\n",
       "      <th>completeness_score</th>\n",
       "      <th>v_measure_score</th>\n",
       "      <th>fowlkes_mallows_score</th>\n",
       "    </tr>\n",
       "  </thead>\n",
       "  <tbody>\n",
       "    <tr>\n",
       "      <th>kmeans_cl3</th>\n",
       "      <td>0.708167</td>\n",
       "      <td>0.254450</td>\n",
       "      <td>0.797189</td>\n",
       "      <td>0.481296</td>\n",
       "      <td>0.354179</td>\n",
       "      <td>0.750769</td>\n",
       "      <td>0.481302</td>\n",
       "      <td>0.447896</td>\n",
       "    </tr>\n",
       "    <tr>\n",
       "      <th>kmeans_cl4</th>\n",
       "      <td>0.709468</td>\n",
       "      <td>0.255375</td>\n",
       "      <td>0.809924</td>\n",
       "      <td>0.486464</td>\n",
       "      <td>0.359837</td>\n",
       "      <td>0.750643</td>\n",
       "      <td>0.486473</td>\n",
       "      <td>0.448082</td>\n",
       "    </tr>\n",
       "    <tr>\n",
       "      <th>kmeans_cl5</th>\n",
       "      <td>0.730862</td>\n",
       "      <td>0.266567</td>\n",
       "      <td>0.937731</td>\n",
       "      <td>0.533823</td>\n",
       "      <td>0.416620</td>\n",
       "      <td>0.742820</td>\n",
       "      <td>0.533833</td>\n",
       "      <td>0.445596</td>\n",
       "    </tr>\n",
       "    <tr>\n",
       "      <th>kmeans_cl6</th>\n",
       "      <td>0.730613</td>\n",
       "      <td>0.266749</td>\n",
       "      <td>0.936603</td>\n",
       "      <td>0.533396</td>\n",
       "      <td>0.416119</td>\n",
       "      <td>0.742772</td>\n",
       "      <td>0.533409</td>\n",
       "      <td>0.446013</td>\n",
       "    </tr>\n",
       "    <tr>\n",
       "      <th>kmeans_cl7</th>\n",
       "      <td>0.834359</td>\n",
       "      <td>0.423827</td>\n",
       "      <td>1.227461</td>\n",
       "      <td>0.642491</td>\n",
       "      <td>0.545342</td>\n",
       "      <td>0.781785</td>\n",
       "      <td>0.642501</td>\n",
       "      <td>0.538582</td>\n",
       "    </tr>\n",
       "    <tr>\n",
       "      <th>kmeans_cl8</th>\n",
       "      <td>0.834244</td>\n",
       "      <td>0.423017</td>\n",
       "      <td>1.228033</td>\n",
       "      <td>0.641975</td>\n",
       "      <td>0.545596</td>\n",
       "      <td>0.779744</td>\n",
       "      <td>0.641987</td>\n",
       "      <td>0.537723</td>\n",
       "    </tr>\n",
       "    <tr>\n",
       "      <th>kmeans_cl9</th>\n",
       "      <td>0.850197</td>\n",
       "      <td>0.455398</td>\n",
       "      <td>1.338105</td>\n",
       "      <td>0.679903</td>\n",
       "      <td>0.594500</td>\n",
       "      <td>0.793993</td>\n",
       "      <td>0.679915</td>\n",
       "      <td>0.558139</td>\n",
       "    </tr>\n",
       "    <tr>\n",
       "      <th>kmeans_cl10</th>\n",
       "      <td>0.886270</td>\n",
       "      <td>0.529067</td>\n",
       "      <td>1.474087</td>\n",
       "      <td>0.713003</td>\n",
       "      <td>0.654914</td>\n",
       "      <td>0.782427</td>\n",
       "      <td>0.713015</td>\n",
       "      <td>0.600888</td>\n",
       "    </tr>\n",
       "    <tr>\n",
       "      <th>kmeans_cl11</th>\n",
       "      <td>0.885754</td>\n",
       "      <td>0.525981</td>\n",
       "      <td>1.474413</td>\n",
       "      <td>0.711322</td>\n",
       "      <td>0.655059</td>\n",
       "      <td>0.778188</td>\n",
       "      <td>0.711335</td>\n",
       "      <td>0.597896</td>\n",
       "    </tr>\n",
       "    <tr>\n",
       "      <th>kmeans_cl12</th>\n",
       "      <td>0.883817</td>\n",
       "      <td>0.489762</td>\n",
       "      <td>1.480989</td>\n",
       "      <td>0.692879</td>\n",
       "      <td>0.657981</td>\n",
       "      <td>0.731719</td>\n",
       "      <td>0.692894</td>\n",
       "      <td>0.558672</td>\n",
       "    </tr>\n",
       "    <tr>\n",
       "      <th>minibatch_kmeans_cl3</th>\n",
       "      <td>0.708863</td>\n",
       "      <td>0.255813</td>\n",
       "      <td>0.801705</td>\n",
       "      <td>0.483967</td>\n",
       "      <td>0.356185</td>\n",
       "      <td>0.754753</td>\n",
       "      <td>0.483973</td>\n",
       "      <td>0.449076</td>\n",
       "    </tr>\n",
       "    <tr>\n",
       "      <th>minibatch_kmeans_cl4</th>\n",
       "      <td>0.729521</td>\n",
       "      <td>0.265408</td>\n",
       "      <td>0.925060</td>\n",
       "      <td>0.529188</td>\n",
       "      <td>0.410990</td>\n",
       "      <td>0.742846</td>\n",
       "      <td>0.529196</td>\n",
       "      <td>0.445223</td>\n",
       "    </tr>\n",
       "    <tr>\n",
       "      <th>minibatch_kmeans_cl5</th>\n",
       "      <td>0.833062</td>\n",
       "      <td>0.421361</td>\n",
       "      <td>1.214009</td>\n",
       "      <td>0.638127</td>\n",
       "      <td>0.539366</td>\n",
       "      <td>0.781185</td>\n",
       "      <td>0.638134</td>\n",
       "      <td>0.537076</td>\n",
       "    </tr>\n",
       "    <tr>\n",
       "      <th>minibatch_kmeans_cl6</th>\n",
       "      <td>0.849142</td>\n",
       "      <td>0.453802</td>\n",
       "      <td>1.322985</td>\n",
       "      <td>0.675763</td>\n",
       "      <td>0.587782</td>\n",
       "      <td>0.794741</td>\n",
       "      <td>0.675771</td>\n",
       "      <td>0.557494</td>\n",
       "    </tr>\n",
       "    <tr>\n",
       "      <th>minibatch_kmeans_cl7</th>\n",
       "      <td>0.872265</td>\n",
       "      <td>0.493998</td>\n",
       "      <td>1.368904</td>\n",
       "      <td>0.679723</td>\n",
       "      <td>0.608184</td>\n",
       "      <td>0.770359</td>\n",
       "      <td>0.679732</td>\n",
       "      <td>0.577040</td>\n",
       "    </tr>\n",
       "    <tr>\n",
       "      <th>minibatch_kmeans_cl8</th>\n",
       "      <td>0.901157</td>\n",
       "      <td>0.576556</td>\n",
       "      <td>1.559036</td>\n",
       "      <td>0.740836</td>\n",
       "      <td>0.692656</td>\n",
       "      <td>0.796238</td>\n",
       "      <td>0.740844</td>\n",
       "      <td>0.637702</td>\n",
       "    </tr>\n",
       "    <tr>\n",
       "      <th>minibatch_kmeans_cl9</th>\n",
       "      <td>0.905604</td>\n",
       "      <td>0.581088</td>\n",
       "      <td>1.619940</td>\n",
       "      <td>0.752137</td>\n",
       "      <td>0.719715</td>\n",
       "      <td>0.787638</td>\n",
       "      <td>0.752146</td>\n",
       "      <td>0.637389</td>\n",
       "    </tr>\n",
       "    <tr>\n",
       "      <th>minibatch_kmeans_cl10</th>\n",
       "      <td>0.899089</td>\n",
       "      <td>0.560281</td>\n",
       "      <td>1.578193</td>\n",
       "      <td>0.741729</td>\n",
       "      <td>0.701167</td>\n",
       "      <td>0.787294</td>\n",
       "      <td>0.741739</td>\n",
       "      <td>0.621316</td>\n",
       "    </tr>\n",
       "    <tr>\n",
       "      <th>minibatch_kmeans_cl11</th>\n",
       "      <td>0.909009</td>\n",
       "      <td>0.575057</td>\n",
       "      <td>1.670062</td>\n",
       "      <td>0.755901</td>\n",
       "      <td>0.741983</td>\n",
       "      <td>0.770372</td>\n",
       "      <td>0.755911</td>\n",
       "      <td>0.627192</td>\n",
       "    </tr>\n",
       "    <tr>\n",
       "      <th>minibatch_kmeans_cl12</th>\n",
       "      <td>0.909072</td>\n",
       "      <td>0.575254</td>\n",
       "      <td>1.673801</td>\n",
       "      <td>0.756949</td>\n",
       "      <td>0.743644</td>\n",
       "      <td>0.770763</td>\n",
       "      <td>0.756961</td>\n",
       "      <td>0.627347</td>\n",
       "    </tr>\n",
       "    <tr>\n",
       "      <th>meanshift</th>\n",
       "      <td>0.428756</td>\n",
       "      <td>0.054891</td>\n",
       "      <td>0.314096</td>\n",
       "      <td>0.219328</td>\n",
       "      <td>0.139601</td>\n",
       "      <td>0.525169</td>\n",
       "      <td>0.220570</td>\n",
       "      <td>0.334240</td>\n",
       "    </tr>\n",
       "    <tr>\n",
       "      <th>optics</th>\n",
       "      <td>0.692805</td>\n",
       "      <td>0.044930</td>\n",
       "      <td>1.144789</td>\n",
       "      <td>0.259819</td>\n",
       "      <td>0.508806</td>\n",
       "      <td>0.235924</td>\n",
       "      <td>0.322371</td>\n",
       "      <td>0.217929</td>\n",
       "    </tr>\n",
       "  </tbody>\n",
       "</table>\n",
       "</div>"
      ],
      "text/plain": [
       "                       rand_score  adjusted_rand_score  mutual_info_score  \\\n",
       "kmeans_cl3               0.708167             0.254450           0.797189   \n",
       "kmeans_cl4               0.709468             0.255375           0.809924   \n",
       "kmeans_cl5               0.730862             0.266567           0.937731   \n",
       "kmeans_cl6               0.730613             0.266749           0.936603   \n",
       "kmeans_cl7               0.834359             0.423827           1.227461   \n",
       "kmeans_cl8               0.834244             0.423017           1.228033   \n",
       "kmeans_cl9               0.850197             0.455398           1.338105   \n",
       "kmeans_cl10              0.886270             0.529067           1.474087   \n",
       "kmeans_cl11              0.885754             0.525981           1.474413   \n",
       "kmeans_cl12              0.883817             0.489762           1.480989   \n",
       "minibatch_kmeans_cl3     0.708863             0.255813           0.801705   \n",
       "minibatch_kmeans_cl4     0.729521             0.265408           0.925060   \n",
       "minibatch_kmeans_cl5     0.833062             0.421361           1.214009   \n",
       "minibatch_kmeans_cl6     0.849142             0.453802           1.322985   \n",
       "minibatch_kmeans_cl7     0.872265             0.493998           1.368904   \n",
       "minibatch_kmeans_cl8     0.901157             0.576556           1.559036   \n",
       "minibatch_kmeans_cl9     0.905604             0.581088           1.619940   \n",
       "minibatch_kmeans_cl10    0.899089             0.560281           1.578193   \n",
       "minibatch_kmeans_cl11    0.909009             0.575057           1.670062   \n",
       "minibatch_kmeans_cl12    0.909072             0.575254           1.673801   \n",
       "meanshift                0.428756             0.054891           0.314096   \n",
       "optics                   0.692805             0.044930           1.144789   \n",
       "\n",
       "                       adjusted_mutual_info_score  homogeneity_score  \\\n",
       "kmeans_cl3                               0.481296           0.354179   \n",
       "kmeans_cl4                               0.486464           0.359837   \n",
       "kmeans_cl5                               0.533823           0.416620   \n",
       "kmeans_cl6                               0.533396           0.416119   \n",
       "kmeans_cl7                               0.642491           0.545342   \n",
       "kmeans_cl8                               0.641975           0.545596   \n",
       "kmeans_cl9                               0.679903           0.594500   \n",
       "kmeans_cl10                              0.713003           0.654914   \n",
       "kmeans_cl11                              0.711322           0.655059   \n",
       "kmeans_cl12                              0.692879           0.657981   \n",
       "minibatch_kmeans_cl3                     0.483967           0.356185   \n",
       "minibatch_kmeans_cl4                     0.529188           0.410990   \n",
       "minibatch_kmeans_cl5                     0.638127           0.539366   \n",
       "minibatch_kmeans_cl6                     0.675763           0.587782   \n",
       "minibatch_kmeans_cl7                     0.679723           0.608184   \n",
       "minibatch_kmeans_cl8                     0.740836           0.692656   \n",
       "minibatch_kmeans_cl9                     0.752137           0.719715   \n",
       "minibatch_kmeans_cl10                    0.741729           0.701167   \n",
       "minibatch_kmeans_cl11                    0.755901           0.741983   \n",
       "minibatch_kmeans_cl12                    0.756949           0.743644   \n",
       "meanshift                                0.219328           0.139601   \n",
       "optics                                   0.259819           0.508806   \n",
       "\n",
       "                       completeness_score  v_measure_score  \\\n",
       "kmeans_cl3                       0.750769         0.481302   \n",
       "kmeans_cl4                       0.750643         0.486473   \n",
       "kmeans_cl5                       0.742820         0.533833   \n",
       "kmeans_cl6                       0.742772         0.533409   \n",
       "kmeans_cl7                       0.781785         0.642501   \n",
       "kmeans_cl8                       0.779744         0.641987   \n",
       "kmeans_cl9                       0.793993         0.679915   \n",
       "kmeans_cl10                      0.782427         0.713015   \n",
       "kmeans_cl11                      0.778188         0.711335   \n",
       "kmeans_cl12                      0.731719         0.692894   \n",
       "minibatch_kmeans_cl3             0.754753         0.483973   \n",
       "minibatch_kmeans_cl4             0.742846         0.529196   \n",
       "minibatch_kmeans_cl5             0.781185         0.638134   \n",
       "minibatch_kmeans_cl6             0.794741         0.675771   \n",
       "minibatch_kmeans_cl7             0.770359         0.679732   \n",
       "minibatch_kmeans_cl8             0.796238         0.740844   \n",
       "minibatch_kmeans_cl9             0.787638         0.752146   \n",
       "minibatch_kmeans_cl10            0.787294         0.741739   \n",
       "minibatch_kmeans_cl11            0.770372         0.755911   \n",
       "minibatch_kmeans_cl12            0.770763         0.756961   \n",
       "meanshift                        0.525169         0.220570   \n",
       "optics                           0.235924         0.322371   \n",
       "\n",
       "                       fowlkes_mallows_score  \n",
       "kmeans_cl3                          0.447896  \n",
       "kmeans_cl4                          0.448082  \n",
       "kmeans_cl5                          0.445596  \n",
       "kmeans_cl6                          0.446013  \n",
       "kmeans_cl7                          0.538582  \n",
       "kmeans_cl8                          0.537723  \n",
       "kmeans_cl9                          0.558139  \n",
       "kmeans_cl10                         0.600888  \n",
       "kmeans_cl11                         0.597896  \n",
       "kmeans_cl12                         0.558672  \n",
       "minibatch_kmeans_cl3                0.449076  \n",
       "minibatch_kmeans_cl4                0.445223  \n",
       "minibatch_kmeans_cl5                0.537076  \n",
       "minibatch_kmeans_cl6                0.557494  \n",
       "minibatch_kmeans_cl7                0.577040  \n",
       "minibatch_kmeans_cl8                0.637702  \n",
       "minibatch_kmeans_cl9                0.637389  \n",
       "minibatch_kmeans_cl10               0.621316  \n",
       "minibatch_kmeans_cl11               0.627192  \n",
       "minibatch_kmeans_cl12               0.627347  \n",
       "meanshift                           0.334240  \n",
       "optics                              0.217929  "
      ]
     },
     "execution_count": 42,
     "metadata": {},
     "output_type": "execute_result"
    }
   ],
   "source": [
    "df_eval"
   ]
  },
  {
   "cell_type": "markdown",
   "metadata": {},
   "source": [
    "# HDBSCAN"
   ]
  },
  {
   "cell_type": "code",
   "execution_count": 43,
   "metadata": {},
   "outputs": [
    {
     "ename": "SyntaxError",
     "evalue": "EOF while scanning triple-quoted string literal (<ipython-input-43-107f263814b5>, line 7)",
     "output_type": "error",
     "traceback": [
      "\u001b[0;36m  File \u001b[0;32m\"<ipython-input-43-107f263814b5>\"\u001b[0;36m, line \u001b[0;32m7\u001b[0m\n\u001b[0;31m    return low_data_2\u001b[0m\n\u001b[0m                     \n^\u001b[0m\n\u001b[0;31mSyntaxError\u001b[0m\u001b[0;31m:\u001b[0m EOF while scanning triple-quoted string literal\n"
     ]
    }
   ],
   "source": [
    "'''\n",
    "def hdbscann(low_data):\n",
    "    low_data_2 = low_data.copy()\n",
    "    hdb = hdbscan.HDBSCAN().fit(low_data_2)\n",
    "    low_data_2[\"cluster_label\"] = hdb.labels_\n",
    "    low_data_2[\"label\"] = reduced_label\n",
    "    return low_data_2"
   ]
  },
  {
   "cell_type": "code",
   "execution_count": null,
   "metadata": {},
   "outputs": [],
   "source": [
    "df_hdbscan = hdbscann(df_low)\n",
    "df_eval.loc['hdbscan']=evall(df_hdbscan)\n",
    "df_eval.to_csv('eval_baby_k50_e10')"
   ]
  },
  {
   "cell_type": "markdown",
   "metadata": {},
   "source": [
    "# SPECTRAL"
   ]
  },
  {
   "cell_type": "code",
   "execution_count": null,
   "metadata": {},
   "outputs": [],
   "source": [
    "from sklearn.cluster import SpectralClustering\n",
    "\n",
    "def spectral(low_data):\n",
    "    low_data_2 = low_data.copy()\n",
    "    spectra = SpectralClustering().fit(low_data_2)\n",
    "    low_data_2[\"cluster_label\"] = spectra.labels_\n",
    "    low_data_2[\"label\"] = reduced_label\n",
    "    return low_data_2"
   ]
  },
  {
   "cell_type": "code",
   "execution_count": null,
   "metadata": {},
   "outputs": [],
   "source": [
    "df_spectra = spectral(df_low)\n",
    "df_eval.loc['spectral']=evall(df_spectra)\n",
    "df_eval.to_csv('eval_baby_k50_e10_lof')"
   ]
  },
  {
   "cell_type": "code",
   "execution_count": null,
   "metadata": {},
   "outputs": [],
   "source": []
  },
  {
   "cell_type": "code",
   "execution_count": null,
   "metadata": {},
   "outputs": [],
   "source": []
  },
  {
   "cell_type": "code",
   "execution_count": null,
   "metadata": {},
   "outputs": [],
   "source": [
    "df_eval"
   ]
  }
 ],
 "metadata": {
  "kernelspec": {
   "display_name": "Python 3",
   "language": "python",
   "name": "python3"
  },
  "language_info": {
   "codemirror_mode": {
    "name": "ipython",
    "version": 3
   },
   "file_extension": ".py",
   "mimetype": "text/x-python",
   "name": "python",
   "nbconvert_exporter": "python",
   "pygments_lexer": "ipython3",
   "version": "3.7.7"
  }
 },
 "nbformat": 4,
 "nbformat_minor": 4
}
