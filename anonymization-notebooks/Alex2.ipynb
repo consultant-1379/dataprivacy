{
 "cells": [
  {
   "cell_type": "markdown",
   "metadata": {},
   "source": [
    "# Alex's Algorithm #2\n",
    "\n",
    "Input: D-dimensional Eucledean Space Matrix of Real Valued Metric Space clustering use-cases/think through (this could be applied to other use cases as well e.g. anomaly detection w.o. starting with the filtering for these elements.\n",
    "\n",
    "Paramteres: \n",
    "\n",
    "K-anonymity level: K-anonymity\n",
    "\n",
    "Epsilon\n",
    "\n",
    "First filter out outlier rows from the data set, here one can use e.g. LOF or ABOD for this purpose or use winsorization column wise to cut off long tail distribution behavior (https://en.wikipedia.org/wiki/Local_outlier_factor , https://www.dbs.ifi.lmu.de/Publikationen/Papers/KDD2008.pdf , https://en.wikipedia.org/wiki/Winsorizing). /Or to be align with different use cases for e.g. anomaly detection, don't remove these elements./\n",
    "\n",
    "For each row in the dataset:\n",
    "\n",
    "    Find K-nearest negihbours\n",
    "    For each column/feature /denoted with d/:\n",
    "        Calculate the mean value of the K-sphere for each of columns and imputate it to the original column value+ White Noise (white Noise should be different for every point)\n",
    "        where White Noise = Laplace(0, (max(K-sphere[d]-min(K-sphere[d])/epsilon)\n",
    "        where K-sphere[d] denotes the set of feature/column \"d\" of the rows of the K-sphere (the original row is inclusive)\n",
    "For categorical variables/non-numeric variables imputate K-sphere mode.\n",
    "Another alternative could be to write down the neighbouring graph from the K-spheres and change random feature values between them, if the use-case is not an anomaly detection.\n",
    "For categorical variables/non-numeric variables imputate cluster mode. /In case we need a common metric, the subscriber must normalize the space (e.g. with Min-Max Scaler) and should use a normalized Hamming- or Levenhstein-distance for them./\n",
    "***"
   ]
  },
  {
   "cell_type": "code",
   "execution_count": 1,
   "metadata": {},
   "outputs": [],
   "source": [
    "import pandas as pd\n",
    "import numpy as np\n",
    "import seaborn as sns\n",
    "import matplotlib.pyplot as plt\n",
    "\n",
    "# MOdel selection\n",
    "from sklearn.decomposition import PCA\n",
    "from sklearn.preprocessing import StandardScaler\n",
    "from sklearn.model_selection import train_test_split\n",
    "from sklearn.decomposition import IncrementalPCA\n",
    "from sklearn.linear_model import LogisticRegression\n",
    "from sklearn.neighbors import LocalOutlierFactor\n",
    "\n",
    "# Model hyper parameter tuning\n",
    "from sklearn import metrics\n",
    "from mpl_toolkits.mplot3d import Axes3D\n",
    "from sklearn.ensemble import RandomForestClassifier\n",
    "from sklearn.metrics import classification_report\n",
    "from sklearn.metrics import accuracy_score\n",
    "from sklearn.metrics import confusion_matrix\n",
    "import sklearn.neighbors\n",
    "\n",
    "import os\n",
    "\n",
    "import warnings  \n",
    "warnings.filterwarnings('ignore')\n",
    "\n",
    "import numpy\n",
    "import math\n"
   ]
  },
  {
   "cell_type": "code",
   "execution_count": 2,
   "metadata": {},
   "outputs": [],
   "source": [
    "def getKSphere(df, k, index, tree) :\n",
    "    indexes = tree.query(df[index:index+1], k+1, return_distance=False)\n",
    "    return df.loc[indexes[0]]"
   ]
  },
  {
   "cell_type": "code",
   "execution_count": 3,
   "metadata": {},
   "outputs": [],
   "source": [
    "def getNewValue(col, epsilon) :\n",
    "    # base = col.iloc[0]\n",
    "    base = numpy.mean(col)\n",
    "    r = max(col) - min(col)\n",
    "    return np.random.laplace(base, r/epsilon)"
   ]
  },
  {
   "cell_type": "code",
   "execution_count": 4,
   "metadata": {},
   "outputs": [],
   "source": [
    "def processLine(df, k, epsilon, index, tree) :\n",
    "    sphere = getKSphere(df, k, index, tree)\n",
    "    return sphere.apply(getNewValue, args=[epsilon])\n"
   ]
  },
  {
   "cell_type": "code",
   "execution_count": 5,
   "metadata": {},
   "outputs": [],
   "source": [
    "def main_transform(df, k, epsilon, lof=False) :\n",
    "    \n",
    "    scaler = StandardScaler()\n",
    "    scaledDf = pd.DataFrame(scaler.fit_transform(df))\n",
    "    if lof:\n",
    "        scaledDf = filter_lof(scaledDf)\n",
    "\n",
    "    resList = []\n",
    "    tree = sklearn.neighbors.BallTree(scaledDf, metric=\"euclidean\")\n",
    "\n",
    "    for i in scaledDf.index.values:\n",
    "        resList.append(processLine(scaledDf, k, epsilon, i, tree))\n",
    "        if (i % 50 == 0):\n",
    "            print(i)\n",
    "    return pd.DataFrame(scaler.inverse_transform(resList), columns=df.columns)"
   ]
  },
  {
   "cell_type": "code",
   "execution_count": 6,
   "metadata": {},
   "outputs": [],
   "source": [
    "def filter_lof(df, k=20) :\n",
    "    lof = LocalOutlierFactor(n_neighbors=k)\n",
    "    df2 = pd.DataFrame.copy(df)\n",
    "    df2[\"_lof\"] = lof.fit_predict(df2)\n",
    "    return df2[df2[\"_lof\"]>0].drop(columns=\"_lof\").reset_index(drop=True)"
   ]
  },
  {
   "cell_type": "markdown",
   "metadata": {},
   "source": [
    "## main_transform(df, K, Epsilon)"
   ]
  },
  {
   "cell_type": "markdown",
   "metadata": {},
   "source": [
    "### Without removing outliers"
   ]
  },
  {
   "cell_type": "markdown",
   "metadata": {},
   "source": [
    "#### K = 10, epsilon = 1"
   ]
  },
  {
   "cell_type": "markdown",
   "metadata": {},
   "source": [
    "main_transform(df[0:200], 10, 10)"
   ]
  },
  {
   "cell_type": "markdown",
   "metadata": {},
   "source": [
    "### Removing outliers with LOF"
   ]
  },
  {
   "cell_type": "markdown",
   "metadata": {},
   "source": [
    "#### K = 3"
   ]
  },
  {
   "cell_type": "markdown",
   "metadata": {},
   "source": [
    "#### epsilon = 10"
   ]
  },
  {
   "cell_type": "markdown",
   "metadata": {},
   "source": [
    "main_transform(filtered, 3, 10)"
   ]
  },
  {
   "cell_type": "markdown",
   "metadata": {},
   "source": [
    "#### Diff"
   ]
  },
  {
   "cell_type": "markdown",
   "metadata": {},
   "source": [
    "filtered - main_transform(filtered, 3, 10)"
   ]
  },
  {
   "cell_type": "markdown",
   "metadata": {},
   "source": [
    "## Batch process files"
   ]
  },
  {
   "cell_type": "code",
   "execution_count": 7,
   "metadata": {},
   "outputs": [],
   "source": [
    "files = [\"benign_traffic.csv\", \"gafgyt_attacks/combo.csv\", \"gafgyt_attacks/junk.csv\", \"gafgyt_attacks/scan.csv\", \"gafgyt_attacks/tcp.csv\", \"gafgyt_attacks/udp.csv\", \"mirai_attacks/ack.csv\", \"mirai_attacks/scan.csv\", \"mirai_attacks/syn.csv\", \"mirai_attacks/udp.csv\", \"mirai_attacks/udpplain.csv\"]"
   ]
  },
  {
   "cell_type": "code",
   "execution_count": 12,
   "metadata": {},
   "outputs": [],
   "source": [
    "def process_files(idir, odir, k, epsilon, lof=False) :\n",
    "    os.makedirs(odir)\n",
    "    os.makedirs(os.path.join(odir, \"mirai_attacks\"))\n",
    "    os.makedirs(os.path.join(odir, \"gafgyt_attacks\"))\n",
    "\n",
    "    for filename in files:\n",
    "        df = pd.read_csv(os.path.join(idir, filename))\n",
    "        # df = df[0:200]\n",
    "        df = df.sample(frac=0.5, replace=False, random_state=42).reset_index(drop=True)\n",
    "        df2 = main_transform(df, k, epsilon, lof)\n",
    "        df2.to_csv(os.path.join(odir, filename), index=False)\n",
    "        "
   ]
  },
  {
   "cell_type": "markdown",
   "metadata": {},
   "source": [
    "### Baby Monitor"
   ]
  },
  {
   "cell_type": "markdown",
   "metadata": {
    "scrolled": true
   },
   "source": [
    "process_files(\"baby\", \"baby_k10_e1\", 10, 1)\n",
    "process_files(\"baby\", \"baby_k20_e1\", 20, 1)\n",
    "process_files(\"baby\", \"baby_k50_e1\", 50, 1)\n",
    "\n",
    "process_files(\"baby\", \"baby_k10_e5\", 10, 5)\n",
    "process_files(\"baby\", \"baby_k20_e5\", 20, 5)\n",
    "process_files(\"baby\", \"baby_k50_e5\", 50, 5)\n",
    "\n",
    "process_files(\"baby\", \"baby_k10_e10\", 10, 10)\n",
    "process_files(\"baby\", \"baby_k20_e10\", 20, 10)\n",
    "process_files(\"baby\", \"baby_k50_e10\", 50, 10)"
   ]
  },
  {
   "cell_type": "markdown",
   "metadata": {},
   "source": [
    "process_files(\"baby\", \"baby_k10_e1_lof\", 10, 1, True)\n",
    "process_files(\"baby\", \"baby_k20_e1_lof\", 20, 1, True)\n",
    "process_files(\"baby\", \"baby_k50_e1_lof\", 50, 1, True)\n",
    "\n",
    "process_files(\"baby\", \"baby_k10_e5_lof\", 10, 5, True)\n",
    "process_files(\"baby\", \"baby_k20_e5_lof\", 20, 5, True)\n",
    "process_files(\"baby\", \"baby_k50_e5_lof\", 50, 5, True)\n",
    "\n",
    "process_files(\"baby\", \"baby_k10_e10_lof\", 10, 10, True)\n",
    "process_files(\"baby\", \"baby_k20_e10_lof\", 20, 10, True)\n",
    "process_files(\"baby\", \"baby_k50_e10_lof\", 50, 10, True)"
   ]
  },
  {
   "cell_type": "markdown",
   "metadata": {},
   "source": [
    "### SimpleHome_XCS7_1003_WHT_Security_Camera"
   ]
  },
  {
   "cell_type": "code",
   "execution_count": 13,
   "metadata": {},
   "outputs": [],
   "source": [
    "src = \"/data/dataprivacy/detection_of_IoT_botnet_attacks/SimpleHome_XCS7_1003_WHT_Security_Camera\"\n",
    "dst = \"SimpleHome_XCS7_1003_WHT_Security_Camera/\""
   ]
  },
  {
   "cell_type": "code",
   "execution_count": null,
   "metadata": {},
   "outputs": [
    {
     "name": "stdout",
     "output_type": "stream",
     "text": [
      "0\n",
      "50\n",
      "100\n",
      "150\n",
      "200\n",
      "250\n",
      "300\n",
      "350\n",
      "400\n",
      "450\n",
      "500\n",
      "550\n",
      "600\n",
      "650\n",
      "700\n",
      "750\n",
      "800\n",
      "850\n",
      "900\n",
      "950\n",
      "1000\n",
      "1050\n",
      "1100\n",
      "1150\n",
      "1200\n",
      "1250\n",
      "1300\n",
      "1350\n",
      "1400\n",
      "1450\n",
      "1500\n",
      "1550\n",
      "1600\n",
      "1650\n",
      "1700\n",
      "1750\n",
      "1800\n",
      "1850\n",
      "1900\n",
      "1950\n",
      "2000\n",
      "2050\n",
      "2100\n",
      "2150\n",
      "2200\n",
      "2250\n",
      "2300\n",
      "2350\n",
      "2400\n",
      "2450\n",
      "2500\n",
      "2550\n",
      "2600\n",
      "2650\n",
      "2700\n",
      "2750\n",
      "2800\n",
      "2850\n",
      "2900\n",
      "2950\n",
      "3000\n",
      "3050\n",
      "3100\n",
      "3150\n",
      "3200\n",
      "3250\n",
      "3300\n",
      "3350\n",
      "3400\n",
      "3450\n",
      "3500\n",
      "3550\n",
      "3600\n",
      "3650\n",
      "3700\n",
      "3750\n",
      "3800\n",
      "3850\n",
      "3900\n",
      "3950\n",
      "4000\n",
      "4050\n",
      "4100\n",
      "4150\n",
      "4200\n",
      "4250\n",
      "4300\n",
      "4350\n",
      "4400\n",
      "4450\n",
      "4500\n",
      "4550\n",
      "4600\n",
      "4650\n",
      "4700\n",
      "4750\n",
      "4800\n",
      "4850\n",
      "4900\n",
      "4950\n",
      "5000\n",
      "5050\n",
      "5100\n",
      "5150\n",
      "5200\n",
      "5250\n",
      "5300\n",
      "5350\n",
      "5400\n",
      "5450\n",
      "5500\n",
      "5550\n",
      "5600\n",
      "5650\n",
      "5700\n",
      "5750\n",
      "5800\n",
      "5850\n",
      "5900\n",
      "5950\n",
      "6000\n",
      "6050\n",
      "6100\n",
      "6150\n",
      "6200\n",
      "6250\n",
      "6300\n",
      "6350\n",
      "6400\n",
      "6450\n",
      "6500\n",
      "6550\n",
      "6600\n",
      "6650\n"
     ]
    }
   ],
   "source": [
    "process_files(src, \"k10_e1_lof\", 10, 1, True)\n",
    "process_files(src, \"k20_e1_lof\", 20, 1, True)\n",
    "process_files(src, \"k50_e1_lof\", 50, 1, True)\n",
    "\n",
    "process_files(src, \"k10_e5_lof\", 10, 5, True)\n",
    "process_files(src, \"k20_e5_lof\", 20, 5, True)\n",
    "process_files(src, \"k50_e5_lof\", 50, 5, True)\n",
    "\n",
    "process_files(src, \"k10_e10_lof\", 10, 10, True)\n",
    "process_files(src, \"k20_e10_lof\", 20, 10, True)\n",
    "process_files(src, \"k50_e10_lof\", 50, 10, True)"
   ]
  }
 ],
 "metadata": {
  "kernelspec": {
   "display_name": "Python 3",
   "language": "python",
   "name": "python3"
  },
  "language_info": {
   "codemirror_mode": {
    "name": "ipython",
    "version": 3
   },
   "file_extension": ".py",
   "mimetype": "text/x-python",
   "name": "python",
   "nbconvert_exporter": "python",
   "pygments_lexer": "ipython3",
   "version": "3.7.7"
  }
 },
 "nbformat": 4,
 "nbformat_minor": 4
}
